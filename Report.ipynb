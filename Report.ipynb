{
 "cells": [
  {
   "cell_type": "code",
   "execution_count": 1,
   "id": "d7454e78",
   "metadata": {},
   "outputs": [
    {
     "name": "stdout",
     "output_type": "stream",
     "text": [
      "Files from wrangle: \n",
      "new_zillow_data \n",
      "get_zillow_data \n",
      "prep_zillow \n",
      "split_zillow_data \n",
      "wrangle_zillow\n",
      "df, train, validate, test = wrangle_draft.wrangle_zillow()\n",
      "Files from wrangle: \n",
      "new_zillow_data \n",
      "get_zillow_data \n",
      "prep_zillow \n",
      "split_zillow_data \n",
      "wrangle_zillow\n",
      "df, train, validate, test = wrangle_final.wrangle_zillow()\n"
     ]
    }
   ],
   "source": [
    "# personally made imports\n",
    "import env\n",
    "import wrangle_draft\n",
    "import wrangle_final\n",
    "import f\n",
    "\n",
    "# typical imports\n",
    "import pandas as pd\n",
    "import matplotlib.pyplot as plt\n",
    "import seaborn as sns\n",
    "from scipy import stats\n",
    "from sklearn.model_selection import train_test_split\n",
    "\n",
    "# modeling methods\n",
    "from sklearn.metrics import mean_squared_error\n",
    "from sklearn.linear_model import LinearRegression, LassoLars, TweedieRegressor\n",
    "from sklearn.preprocessing import PolynomialFeatures\n",
    "\n",
    "import warnings\n",
    "warnings.filterwarnings(\"ignore\")"
   ]
  },
  {
   "cell_type": "code",
   "execution_count": null,
   "id": "f6dc9348",
   "metadata": {},
   "outputs": [],
   "source": []
  },
  {
   "cell_type": "markdown",
   "id": "c57e2d3e",
   "metadata": {},
   "source": [
    "# Predicting Housing Prices\n",
    "    By Jessica Gardin"
   ]
  },
  {
   "cell_type": "markdown",
   "id": "35d75fa6",
   "metadata": {},
   "source": [
    "## Project Goals\n",
    "\n",
    "The goal is to beat the baseline model in predicting housing prices for Single-Family homes that had transactions in 2017"
   ]
  },
  {
   "cell_type": "markdown",
   "id": "69f526f7",
   "metadata": {},
   "source": [
    "## Project Description\n",
    "\n",
    "Housing is a billion dollar industry for investors and possibly the biggest purchase of a lifetime for some homeowners.\n",
    "Determining where and when to buy can have huge financial repercussions. We aim to help you make an informed decision!\n",
    "\n"
   ]
  },
  {
   "cell_type": "markdown",
   "id": "20317f96",
   "metadata": {},
   "source": [
    "## Initial Testing and Hypotheses\n",
    "\n",
    "- Locationlocationlocataion. Is it really all about location?\n",
    "\n",
    "- What catagorical valiables correlate with housing prices?\n",
    "\n",
    "- What continous variables correlate with  housing prices?"
   ]
  },
  {
   "cell_type": "markdown",
   "id": "0836d093",
   "metadata": {},
   "source": [
    "## Data Wrangling\n",
    "\n",
    "- Please see \"Wrangle_final\" to see details on how data was acquired, cleaned, and prepped.\n",
    "- Please see \"Explore\" files to see details on how outliers and features were chosen. \n",
    "\n",
    "Summary:"
   ]
  },
  {
   "cell_type": "markdown",
   "id": "dc913e9e",
   "metadata": {},
   "source": [
    "### Acquire\n",
    "\n",
    "Requires:\n",
    "\n",
    "    env.user\n",
    "    env.password\n",
    "    env.host\n",
    "\n",
    "get_zillow_data()\n",
    "\n",
    "    Function gets telco_data first from save file inside folder, then, if no file exits, it will pull directly from mysql.\n",
    "\n",
    "new_zillow_data()\n",
    "\n",
    "    pulls data from mysql\n"
   ]
  },
  {
   "cell_type": "markdown",
   "id": "eee83a4d",
   "metadata": {},
   "source": [
    "### Cleaning\n",
    "\n",
    "- Dropped all nulls (less than 1% of data was lost)\n",
    "- Dropped outliers (9% of data was lost)\n",
    "\n",
    "Columns considered, but had to be dropped due to quantity of nulls:\n",
    "\n",
    "bulidingclassdesc\\\n",
    "architecturalstyledesc\\\n",
    "yardbuildingsqft26\\\n",
    "decktypeid\\\n",
    "fireplace\\\n",
    "poolcnt\\\n",
    "regionidneighborhood\\\n",
    "airconditioningdesc\\\n",
    "numberofstories\\\n",
    "buildingqualitytypeid\\\n",
    "airconditioningdesc\\\n",
    "garagecarcnt\\\n",
    "garagetotalsqft"
   ]
  },
  {
   "cell_type": "markdown",
   "id": "d89faff6",
   "metadata": {},
   "source": [
    "### Prep Zillow\n",
    "\n",
    "- Cleans data\n",
    "- Applies filter for outliers\n",
    "- Renames columns for ease\n",
    "- Drops unnecessary columns"
   ]
  },
  {
   "cell_type": "markdown",
   "id": "05d0c910",
   "metadata": {},
   "source": [
    "###  Split Zillow \n",
    "\n",
    "Data split:\n",
    "\n",
    "    20% of data into test group\n",
    "    30% of remaining data into validate group (30% of 80% = 24% of total data)\n",
    "    70% of remaining data into train group (70% of 80% = 56% of total data)\n",
    "\n",
    "Data is further split to avoid target leakage:\n",
    "\n",
    "    x_train = train.drop(columns=['tax_value'])\n",
    "    y_train = train.tax_value\n",
    "\n",
    "    x_validate = validate.drop(columns=['tax_value'])\n",
    "    y_validate = validate.tax_value\n",
    "\n",
    "    x_test = test.drop(columns=['tax_value'])\n",
    "    y_test = test.tax_value\n"
   ]
  },
  {
   "cell_type": "markdown",
   "id": "a1a6f4de",
   "metadata": {},
   "source": [
    "# Data Wrangling in Action"
   ]
  },
  {
   "cell_type": "code",
   "execution_count": 2,
   "id": "8f039364",
   "metadata": {},
   "outputs": [],
   "source": [
    "df, train, validate, test = wrangle_draft.wrangle_zillow()"
   ]
  },
  {
   "cell_type": "code",
   "execution_count": 3,
   "id": "0277a87c",
   "metadata": {
    "scrolled": true
   },
   "outputs": [
    {
     "data": {
      "text/html": [
       "<div>\n",
       "<style scoped>\n",
       "    .dataframe tbody tr th:only-of-type {\n",
       "        vertical-align: middle;\n",
       "    }\n",
       "\n",
       "    .dataframe tbody tr th {\n",
       "        vertical-align: top;\n",
       "    }\n",
       "\n",
       "    .dataframe thead th {\n",
       "        text-align: right;\n",
       "    }\n",
       "</style>\n",
       "<table border=\"1\" class=\"dataframe\">\n",
       "  <thead>\n",
       "    <tr style=\"text-align: right;\">\n",
       "      <th></th>\n",
       "      <th>bed</th>\n",
       "      <th>bath</th>\n",
       "      <th>sqft</th>\n",
       "      <th>tax_value</th>\n",
       "      <th>yearbuilt</th>\n",
       "      <th>fips</th>\n",
       "      <th>zip</th>\n",
       "    </tr>\n",
       "  </thead>\n",
       "  <tbody>\n",
       "    <tr>\n",
       "      <th>0</th>\n",
       "      <td>8.0</td>\n",
       "      <td>4.0</td>\n",
       "      <td>3247.0</td>\n",
       "      <td>2152330.0</td>\n",
       "      <td>1937.0</td>\n",
       "      <td>6037.0</td>\n",
       "      <td>96449.0</td>\n",
       "    </tr>\n",
       "    <tr>\n",
       "      <th>1</th>\n",
       "      <td>5.0</td>\n",
       "      <td>5.5</td>\n",
       "      <td>4412.0</td>\n",
       "      <td>860256.0</td>\n",
       "      <td>1998.0</td>\n",
       "      <td>6059.0</td>\n",
       "      <td>96989.0</td>\n",
       "    </tr>\n",
       "    <tr>\n",
       "      <th>2</th>\n",
       "      <td>5.0</td>\n",
       "      <td>3.0</td>\n",
       "      <td>2981.0</td>\n",
       "      <td>655440.0</td>\n",
       "      <td>1999.0</td>\n",
       "      <td>6037.0</td>\n",
       "      <td>96374.0</td>\n",
       "    </tr>\n",
       "  </tbody>\n",
       "</table>\n",
       "</div>"
      ],
      "text/plain": [
       "   bed  bath    sqft  tax_value  yearbuilt    fips      zip\n",
       "0  8.0   4.0  3247.0  2152330.0     1937.0  6037.0  96449.0\n",
       "1  5.0   5.5  4412.0   860256.0     1998.0  6059.0  96989.0\n",
       "2  5.0   3.0  2981.0   655440.0     1999.0  6037.0  96374.0"
      ]
     },
     "execution_count": 3,
     "metadata": {},
     "output_type": "execute_result"
    }
   ],
   "source": [
    "df.head(3)"
   ]
  },
  {
   "cell_type": "code",
   "execution_count": 4,
   "id": "0a11ac6c",
   "metadata": {},
   "outputs": [],
   "source": [
    "x_train = train.drop(columns=['tax_value'])\n",
    "y_train = train.tax_value\n",
    "\n",
    "x_validate = validate.drop(columns=['tax_value'])\n",
    "y_validate = validate.tax_value\n",
    "\n",
    "x_test = test.drop(columns=['tax_value'])\n",
    "y_test = test.tax_value"
   ]
  },
  {
   "cell_type": "markdown",
   "id": "b4215c7e",
   "metadata": {},
   "source": [
    "# Exploration"
   ]
  },
  {
   "cell_type": "code",
   "execution_count": 5,
   "id": "c528e8ac",
   "metadata": {},
   "outputs": [],
   "source": [
    "#only use train set for intervariable exploration"
   ]
  },
  {
   "cell_type": "code",
   "execution_count": 6,
   "id": "d1bd6cb9",
   "metadata": {},
   "outputs": [],
   "source": [
    "df = train"
   ]
  },
  {
   "cell_type": "code",
   "execution_count": 7,
   "id": "8ac71d4b",
   "metadata": {
    "scrolled": true
   },
   "outputs": [
    {
     "data": {
      "text/plain": [
       "<AxesSubplot:xlabel='bath', ylabel='tax_value'>"
      ]
     },
     "execution_count": 7,
     "metadata": {},
     "output_type": "execute_result"
    },
    {
     "data": {
      "image/png": "[encoded data removed]",
      "text/plain": [
       "<Figure size 432x288 with 1 Axes>"
      ]
     },
     "metadata": {
      "needs_background": "light"
     },
     "output_type": "display_data"
    }
   ],
   "source": [
    "sns.stripplot(x = df.bath, y = df.tax_value)"
   ]
  },
  {
   "cell_type": "markdown",
   "id": "969f0db5",
   "metadata": {},
   "source": [
    "# Takeaway\n",
    "large tax value outlier and some high number of bathroom outliers"
   ]
  },
  {
   "cell_type": "code",
   "execution_count": 8,
   "id": "71208f78",
   "metadata": {
    "scrolled": false
   },
   "outputs": [
    {
     "data": {
      "text/plain": [
       "<AxesSubplot:xlabel='bed', ylabel='tax_value'>"
      ]
     },
     "execution_count": 8,
     "metadata": {},
     "output_type": "execute_result"
    },
    {
     "data": {
      "image/png": "[encoded data removed]",
      "text/plain": [
       "<Figure size 432x288 with 1 Axes>"
      ]
     },
     "metadata": {
      "needs_background": "light"
     },
     "output_type": "display_data"
    }
   ],
   "source": [
    "sns.stripplot(x = df.bed, y = df.tax_value)"
   ]
  },
  {
   "cell_type": "markdown",
   "id": "f18c7354",
   "metadata": {},
   "source": [
    "# Takeaway\n",
    "large tax value outlier and some high number of bedroom outliers"
   ]
  },
  {
   "cell_type": "code",
   "execution_count": 9,
   "id": "93e754b3",
   "metadata": {},
   "outputs": [
    {
     "data": {
      "text/plain": [
       "(array([2.9275e+04, 0.0000e+00, 0.0000e+00, 0.0000e+00, 0.0000e+00,\n",
       "        0.0000e+00, 0.0000e+00, 0.0000e+00, 0.0000e+00, 1.0000e+01]),\n",
       " array([ 95982. , 126351.3, 156720.6, 187089.9, 217459.2, 247828.5,\n",
       "        278197.8, 308567.1, 338936.4, 369305.7, 399675. ]),\n",
       " <BarContainer object of 10 artists>)"
      ]
     },
     "execution_count": 9,
     "metadata": {},
     "output_type": "execute_result"
    },
    {
     "data": {
      "image/png": "[encoded data removed]",
      "text/plain": [
       "<Figure size 432x288 with 1 Axes>"
      ]
     },
     "metadata": {
      "needs_background": "light"
     },
     "output_type": "display_data"
    }
   ],
   "source": [
    "plt.hist(df.zip)"
   ]
  },
  {
   "cell_type": "markdown",
   "id": "6904b509",
   "metadata": {},
   "source": [
    "# Takeaway\n",
    "significant zip code outliers"
   ]
  },
  {
   "cell_type": "code",
   "execution_count": 10,
   "id": "bdaf0c33",
   "metadata": {
    "scrolled": true
   },
   "outputs": [
    {
     "data": {
      "text/plain": [
       "<AxesSubplot:xlabel='sqft', ylabel='tax_value'>"
      ]
     },
     "execution_count": 10,
     "metadata": {},
     "output_type": "execute_result"
    },
    {
     "data": {
      "image/png": "[encoded data removed]",
      "text/plain": [
       "<Figure size 432x288 with 1 Axes>"
      ]
     },
     "metadata": {
      "needs_background": "light"
     },
     "output_type": "display_data"
    }
   ],
   "source": [
    "sns.scatterplot(x = df.sqft, y = df.tax_value)"
   ]
  },
  {
   "cell_type": "markdown",
   "id": "812c079a",
   "metadata": {},
   "source": [
    "# Takeaway\n",
    "\n",
    "- large tax value outlier and sqft outliers\n",
    "\n",
    "- majority of house buyers are not looking for 14 bedroom houses. To accurately represent the bulk of the data, I will eliminate outliers from my process. "
   ]
  },
  {
   "cell_type": "code",
   "execution_count": 11,
   "id": "543a4dc8",
   "metadata": {},
   "outputs": [],
   "source": [
    "# Suggested filters for outliers:\n",
    "\n",
    "# df = df[(df.bath < 5.5) & (df.bath > 0)]\n",
    "# df = df[(df.bed < 7) & (df.bed > 0)]\n",
    "# df = df[(df.zip < 150_000)]\n",
    "# df = df[df.sqft < 5_500]\n",
    "# df = df[df.tax_value < 1_100_000]"
   ]
  },
  {
   "cell_type": "code",
   "execution_count": 12,
   "id": "80638f4b",
   "metadata": {
    "scrolled": true
   },
   "outputs": [
    {
     "data": {
      "text/plain": [
       "0.9850435376472597"
      ]
     },
     "execution_count": 12,
     "metadata": {},
     "output_type": "execute_result"
    }
   ],
   "source": [
    "# What percentage of properties have 6 or less bathrooms?\n",
    "df[df.bath < 5.5].shape[0] / df.shape[0]"
   ]
  },
  {
   "cell_type": "code",
   "execution_count": 13,
   "id": "fb91c0d4",
   "metadata": {},
   "outputs": [
    {
     "data": {
      "text/plain": [
       "0.9970974901826873"
      ]
     },
     "execution_count": 13,
     "metadata": {},
     "output_type": "execute_result"
    }
   ],
   "source": [
    "# What percentage of properties have 6 or less bedrooms?\n",
    "df[df.bed < 7].shape[0] / df.shape[0]"
   ]
  },
  {
   "cell_type": "code",
   "execution_count": 14,
   "id": "4d484e46",
   "metadata": {},
   "outputs": [
    {
     "data": {
      "text/plain": [
       "0.9898582892265665"
      ]
     },
     "execution_count": 14,
     "metadata": {},
     "output_type": "execute_result"
    }
   ],
   "source": [
    "# Percent of data lost?\n",
    "df[df.sqft < 5_500].shape[0] / df.shape[0]"
   ]
  },
  {
   "cell_type": "code",
   "execution_count": 15,
   "id": "8420b6a3",
   "metadata": {},
   "outputs": [
    {
     "data": {
      "text/plain": [
       "0.9129247054806214"
      ]
     },
     "execution_count": 15,
     "metadata": {},
     "output_type": "execute_result"
    }
   ],
   "source": [
    "# Percent of data lost?\n",
    "df[df.tax_value < 1_100_000].shape[0]/df.shape[0]"
   ]
  },
  {
   "cell_type": "markdown",
   "id": "05aa9125",
   "metadata": {},
   "source": [
    "# Takeaway\n",
    "acceptable data loss"
   ]
  },
  {
   "cell_type": "code",
   "execution_count": 16,
   "id": "d7ec41fa",
   "metadata": {},
   "outputs": [],
   "source": [
    "# apply filters\n",
    "df = df[(df.bath < 5.5) & (df.bath > 0)]\n",
    "df = df[(df.bed < 7) & (df.bed > 0)]\n",
    "df = df[(df.zip < 150_000)]\n",
    "df = df[df.sqft < 5_500]\n",
    "df = df[df.tax_value < 1_100_000]"
   ]
  },
  {
   "cell_type": "code",
   "execution_count": 17,
   "id": "77b6fdd0",
   "metadata": {},
   "outputs": [],
   "source": [
    "cat_col = list(df[['bed', 'bath', 'yearbuilt', 'zip', 'fips']])\n",
    "cont_col = list(df[['sqft']])"
   ]
  },
  {
   "cell_type": "code",
   "execution_count": 18,
   "id": "b62582f7",
   "metadata": {},
   "outputs": [
    {
     "data": {
      "image/png": "[encoded data removed]",
      "text/plain": [
       "<Figure size 1152x216 with 5 Axes>"
      ]
     },
     "metadata": {
      "needs_background": "light"
     },
     "output_type": "display_data"
    }
   ],
   "source": [
    "plt.figure(figsize=(16, 3))\n",
    "\n",
    "for i, col in enumerate(cat_col):\n",
    "\n",
    "    # i starts at 0, but plot nos should start at 1\n",
    "    plot_number = i + 1\n",
    "\n",
    "    l= len(cat_col)\n",
    "\n",
    "    plt.subplot(1,l,plot_number)\n",
    "\n",
    "    # Title with column name.\n",
    "    plt.title(col)\n",
    "\n",
    "    sns.barplot(x = df.groupby(col).tax_value.mean().index, y = df.groupby(col).tax_value.mean().values,)\n",
    "    \n",
    "    plt.tight_layout"
   ]
  },
  {
   "cell_type": "code",
   "execution_count": 19,
   "id": "a05c8e8e",
   "metadata": {},
   "outputs": [
    {
     "data": {
      "text/plain": [
       "<AxesSubplot:xlabel='yearbuilt'>"
      ]
     },
     "execution_count": 19,
     "metadata": {},
     "output_type": "execute_result"
    },
    {
     "data": {
      "image/png": "[encoded data removed]",
      "text/plain": [
       "<Figure size 432x288 with 1 Axes>"
      ]
     },
     "metadata": {
      "needs_background": "light"
     },
     "output_type": "display_data"
    }
   ],
   "source": [
    "sns.barplot(x = train.groupby('yearbuilt').tax_value.mean().index, y = train.groupby('yearbuilt').tax_value.mean().values,)"
   ]
  },
  {
   "cell_type": "code",
   "execution_count": 20,
   "id": "1b3b8cb2",
   "metadata": {},
   "outputs": [],
   "source": [
    "train2 = train[train.yearbuilt>=1890]"
   ]
  },
  {
   "cell_type": "code",
   "execution_count": 21,
   "id": "0d8889d8",
   "metadata": {},
   "outputs": [
    {
     "data": {
      "text/plain": [
       "<AxesSubplot:xlabel='yearbuilt'>"
      ]
     },
     "execution_count": 21,
     "metadata": {},
     "output_type": "execute_result"
    },
    {
     "data": {
      "image/png": "[encoded data removed]",
      "text/plain": [
       "<Figure size 432x288 with 1 Axes>"
      ]
     },
     "metadata": {
      "needs_background": "light"
     },
     "output_type": "display_data"
    }
   ],
   "source": [
    "sns.barplot(x = train2.groupby('yearbuilt').tax_value.mean().index, y = train2.groupby('yearbuilt').tax_value.mean().values,)\n"
   ]
  },
  {
   "cell_type": "code",
   "execution_count": 22,
   "id": "6a4a9399",
   "metadata": {},
   "outputs": [],
   "source": [
    "# Add aditional year filter\n",
    "df = df[df.yearbuilt>=1890]\n"
   ]
  },
  {
   "cell_type": "code",
   "execution_count": 23,
   "id": "83f5edb5",
   "metadata": {},
   "outputs": [
    {
     "data": {
      "image/png": "[encoded data removed]",
      "text/plain": [
       "<Figure size 1152x216 with 1 Axes>"
      ]
     },
     "metadata": {
      "needs_background": "light"
     },
     "output_type": "display_data"
    },
    {
     "data": {
      "image/png": "[encoded data removed]",
      "text/plain": [
       "<Figure size 1152x216 with 1 Axes>"
      ]
     },
     "metadata": {
      "needs_background": "light"
     },
     "output_type": "display_data"
    },
    {
     "data": {
      "image/png": "[encoded data removed]",
      "text/plain": [
       "<Figure size 1152x216 with 1 Axes>"
      ]
     },
     "metadata": {
      "needs_background": "light"
     },
     "output_type": "display_data"
    },
    {
     "data": {
      "image/png": "[encoded data removed]",
      "text/plain": [
       "<Figure size 1152x216 with 1 Axes>"
      ]
     },
     "metadata": {
      "needs_background": "light"
     },
     "output_type": "display_data"
    },
    {
     "data": {
      "image/png": "[encoded data removed]",
      "text/plain": [
       "<Figure size 1152x216 with 1 Axes>"
      ]
     },
     "metadata": {
      "needs_background": "light"
     },
     "output_type": "display_data"
    },
    {
     "data": {
      "image/png": "[encoded data removed]",
      "text/plain": [
       "<Figure size 1152x216 with 1 Axes>"
      ]
     },
     "metadata": {
      "needs_background": "light"
     },
     "output_type": "display_data"
    },
    {
     "data": {
      "image/png": "[encoded data removed]",
      "text/plain": [
       "<Figure size 1152x216 with 1 Axes>"
      ]
     },
     "metadata": {
      "needs_background": "light"
     },
     "output_type": "display_data"
    },
    {
     "data": {
      "image/png": "[encoded data removed]",
      "text/plain": [
       "<Figure size 1152x216 with 1 Axes>"
      ]
     },
     "metadata": {
      "needs_background": "light"
     },
     "output_type": "display_data"
    },
    {
     "data": {
      "image/png": "[encoded data removed]",
      "text/plain": [
       "<Figure size 1152x216 with 1 Axes>"
      ]
     },
     "metadata": {
      "needs_background": "light"
     },
     "output_type": "display_data"
    },
    {
     "data": {
      "image/png": "[encoded data removed]",
      "text/plain": [
       "<Figure size 1152x216 with 1 Axes>"
      ]
     },
     "metadata": {
      "needs_background": "light"
     },
     "output_type": "display_data"
    },
    {
     "data": {
      "image/png": "[encoded data removed]",
      "text/plain": [
       "<Figure size 1152x216 with 1 Axes>"
      ]
     },
     "metadata": {
      "needs_background": "light"
     },
     "output_type": "display_data"
    },
    {
     "data": {
      "image/png": "[encoded data removed]",
      "text/plain": [
       "<Figure size 1152x216 with 1 Axes>"
      ]
     },
     "metadata": {
      "needs_background": "light"
     },
     "output_type": "display_data"
    },
    {
     "data": {
      "image/png": "[encoded data removed]",
      "text/plain": [
       "<Figure size 1152x216 with 1 Axes>"
      ]
     },
     "metadata": {
      "needs_background": "light"
     },
     "output_type": "display_data"
    },
    {
     "data": {
      "image/png": "[encoded data removed]",
      "text/plain": [
       "<Figure size 1152x216 with 1 Axes>"
      ]
     },
     "metadata": {
      "needs_background": "light"
     },
     "output_type": "display_data"
    },
    {
     "data": {
      "image/png": "[encoded data removed]",
      "text/plain": [
       "<Figure size 1152x216 with 1 Axes>"
      ]
     },
     "metadata": {
      "needs_background": "light"
     },
     "output_type": "display_data"
    }
   ],
   "source": [
    "f.plot_categorical_and_continuous_vars(df, cat_col, cont_col)"
   ]
  },
  {
   "cell_type": "markdown",
   "id": "23c6b780",
   "metadata": {},
   "source": [
    "# Visual Exploration Takeaway\n",
    "\n",
    "Total data lost from nulls and outliers: 9%\n",
    "\n",
    "There are A LOT of zip codes. As this is a catagorical value that will need to be encoded, and the curse of dimensionality has a negative impact on regression models, I will drop that column from my list of features. "
   ]
  },
  {
   "cell_type": "markdown",
   "id": "8207b8b4",
   "metadata": {},
   "source": [
    "# Statistical Exploration"
   ]
  },
  {
   "cell_type": "code",
   "execution_count": 24,
   "id": "413c807b",
   "metadata": {},
   "outputs": [],
   "source": [
    "train_cor = train.corr()"
   ]
  },
  {
   "cell_type": "code",
   "execution_count": 25,
   "id": "e9ee62aa",
   "metadata": {},
   "outputs": [
    {
     "data": {
      "text/plain": [
       "<AxesSubplot:>"
      ]
     },
     "execution_count": 25,
     "metadata": {},
     "output_type": "execute_result"
    },
    {
     "data": {
      "image/png": "[encoded data removed]",
      "text/plain": [
       "<Figure size 432x288 with 2 Axes>"
      ]
     },
     "metadata": {
      "needs_background": "light"
     },
     "output_type": "display_data"
    }
   ],
   "source": [
    "sns.heatmap(train_cor, annot = True)"
   ]
  },
  {
   "cell_type": "markdown",
   "id": "1cff8eb4",
   "metadata": {},
   "source": [
    "# Takeaway\n",
    "sqft and bath are stongly correlated-perhaps I'll only use one of them in the models\n",
    "tax value and sqft are strongly correlated"
   ]
  },
  {
   "cell_type": "markdown",
   "id": "8a9d5012",
   "metadata": {},
   "source": [
    "# Dependent variable stats   \n",
    "Run the appropriate statistical tests where needed. "
   ]
  },
  {
   "cell_type": "code",
   "execution_count": 26,
   "id": "d48049b7",
   "metadata": {},
   "outputs": [],
   "source": [
    "alpha = .05"
   ]
  },
  {
   "cell_type": "code",
   "execution_count": 27,
   "id": "6f93644f",
   "metadata": {},
   "outputs": [
    {
     "data": {
      "text/plain": [
       "(0.28541340028289386, 0.0)"
      ]
     },
     "execution_count": 27,
     "metadata": {},
     "output_type": "execute_result"
    }
   ],
   "source": [
    "r_bed, p_bed = stats.pearsonr(x=train.bed, y = train.tax_value)\n",
    "r_bed, p_bed"
   ]
  },
  {
   "cell_type": "code",
   "execution_count": 28,
   "id": "f90d5be5",
   "metadata": {},
   "outputs": [
    {
     "data": {
      "text/plain": [
       "(0.529323163355841, 0.0)"
      ]
     },
     "execution_count": 28,
     "metadata": {},
     "output_type": "execute_result"
    }
   ],
   "source": [
    "r_bath, p_bath = stats.pearsonr(x=train.bath, y = train.tax_value)\n",
    "r_bath, p_bath"
   ]
  },
  {
   "cell_type": "code",
   "execution_count": 29,
   "id": "9e7c5bc4",
   "metadata": {},
   "outputs": [
    {
     "data": {
      "text/plain": [
       "(0.6108608126789236, 0.0)"
      ]
     },
     "execution_count": 29,
     "metadata": {},
     "output_type": "execute_result"
    }
   ],
   "source": [
    "r_sqft, p_sqft = stats.pearsonr(x=train.sqft, y = train.tax_value)\n",
    "r_sqft, p_sqft"
   ]
  },
  {
   "cell_type": "code",
   "execution_count": 30,
   "id": "08a95747",
   "metadata": {},
   "outputs": [
    {
     "data": {
      "text/plain": [
       "(0.17495374157616844, 5.640747715761339e-200)"
      ]
     },
     "execution_count": 30,
     "metadata": {},
     "output_type": "execute_result"
    }
   ],
   "source": [
    "r, p = stats.pearsonr(x=train.yearbuilt, y = train.tax_value)\n",
    "r, p"
   ]
  },
  {
   "cell_type": "markdown",
   "id": "e2a88c5f",
   "metadata": {},
   "source": [
    "# Takeaway\n",
    "What independent variables are correlated with the dependent variable, home value?\n",
    "\n",
    "\n",
    "p < alpha for both bed and bath. Therefore, there are correlated.\n",
    "\n",
    "the correlation coefficient is grater for baths, it indicates a stronger correlation\n",
    "\n"
   ]
  },
  {
   "cell_type": "markdown",
   "id": "09507b93",
   "metadata": {},
   "source": [
    "# Independent variable stats\n",
    "Which independent variables are correlated with other independent variables (bedrooms, bathrooms, year built, square feet)?"
   ]
  },
  {
   "cell_type": "code",
   "execution_count": 31,
   "id": "dc0186c8",
   "metadata": {},
   "outputs": [
    {
     "data": {
      "text/plain": [
       "(0.6508556298023179, 0.0)"
      ]
     },
     "execution_count": 31,
     "metadata": {},
     "output_type": "execute_result"
    }
   ],
   "source": [
    "r, p = stats.pearsonr(x=train.bed, y = train.bath)\n",
    "r, p"
   ]
  },
  {
   "cell_type": "code",
   "execution_count": 32,
   "id": "2a7daf0f",
   "metadata": {},
   "outputs": [
    {
     "data": {
      "text/plain": [
       "(0.3857801806856409, 0.0)"
      ]
     },
     "execution_count": 32,
     "metadata": {},
     "output_type": "execute_result"
    }
   ],
   "source": [
    "r, p = stats.pearsonr(x=train.yearbuilt, y = train.bed)\n",
    "r, p"
   ]
  },
  {
   "cell_type": "code",
   "execution_count": 33,
   "id": "75d5beff",
   "metadata": {
    "scrolled": true
   },
   "outputs": [
    {
     "data": {
      "text/plain": [
       "(0.46050678933716716, 0.0)"
      ]
     },
     "execution_count": 33,
     "metadata": {},
     "output_type": "execute_result"
    }
   ],
   "source": [
    "r, p = stats.pearsonr(x=train.yearbuilt, y = train.sqft)\n",
    "r, p"
   ]
  },
  {
   "cell_type": "code",
   "execution_count": 34,
   "id": "d1f8eb78",
   "metadata": {},
   "outputs": [
    {
     "data": {
      "text/plain": [
       "(0.6339746839503501, 0.0)"
      ]
     },
     "execution_count": 34,
     "metadata": {},
     "output_type": "execute_result"
    }
   ],
   "source": [
    "r, p = stats.pearsonr(x=train.bed, y = train.sqft)\n",
    "r, p"
   ]
  },
  {
   "cell_type": "code",
   "execution_count": 35,
   "id": "b50575a0",
   "metadata": {},
   "outputs": [
    {
     "data": {
      "text/plain": [
       "(0.8550200395023783, 0.0)"
      ]
     },
     "execution_count": 35,
     "metadata": {},
     "output_type": "execute_result"
    }
   ],
   "source": [
    "r, p = stats.pearsonr(x=train.bath, y = train.sqft)\n",
    "r, p"
   ]
  },
  {
   "cell_type": "markdown",
   "id": "d3676a4b",
   "metadata": {},
   "source": [
    "# Takeaway\n",
    "-correlation between independent variables, especially bath and sqft. I will only use sqft for modeling and skip bath. "
   ]
  },
  {
   "cell_type": "markdown",
   "id": "ad4e9e22",
   "metadata": {},
   "source": [
    "<font style=\"font-size:40px\" color='blue'>Overall Exploration Takeaway</font>"
   ]
  },
  {
   "cell_type": "markdown",
   "id": "4ba1886b",
   "metadata": {},
   "source": [
    "1. Total data loss from outliers and nulls is ~ 9%\n",
    "2. Bath and sqft correlate strongly.\n",
    "3. Between bath and sqft, sqft correlates stronger with traget variable AND it doesnt need to be encoded.\n",
    "4. Zip loations are a catagorical variable. Encoding that many zip locations may be more detrimental to processing time and modeling than worth the information gained. \n",
    "5. I will be treating bedrooms as discrete variable, hence, not encoding them. \n",
    "    (ie 4 x 1 bedroom = 4 bedrooms BUT 4 x 1.5 bathrooms != 6 bathrooms)\n",
    "\n",
    "\n",
    "### put lessons learned above together and made wrangle_final.py"
   ]
  },
  {
   "cell_type": "code",
   "execution_count": 36,
   "id": "2a9db8f5",
   "metadata": {},
   "outputs": [],
   "source": [
    "df, train, validate, test = wrangle_final.wrangle_zillow()"
   ]
  },
  {
   "cell_type": "code",
   "execution_count": 37,
   "id": "70b7f8e2",
   "metadata": {},
   "outputs": [],
   "source": [
    "x_train = train.drop(columns=['tax_value', 'fips'])\n",
    "y_train = train.tax_value\n",
    "\n",
    "x_validate = validate.drop(columns=['tax_value', 'fips'])\n",
    "y_validate = validate.tax_value\n",
    "\n",
    "x_test = test.drop(columns=['tax_value', 'fips'])\n",
    "y_test = test.tax_value"
   ]
  },
  {
   "cell_type": "code",
   "execution_count": 38,
   "id": "541bfbd1",
   "metadata": {
    "scrolled": true
   },
   "outputs": [
    {
     "data": {
      "text/html": [
       "<div>\n",
       "<style scoped>\n",
       "    .dataframe tbody tr th:only-of-type {\n",
       "        vertical-align: middle;\n",
       "    }\n",
       "\n",
       "    .dataframe tbody tr th {\n",
       "        vertical-align: top;\n",
       "    }\n",
       "\n",
       "    .dataframe thead th {\n",
       "        text-align: right;\n",
       "    }\n",
       "</style>\n",
       "<table border=\"1\" class=\"dataframe\">\n",
       "  <thead>\n",
       "    <tr style=\"text-align: right;\">\n",
       "      <th></th>\n",
       "      <th>bed</th>\n",
       "      <th>sqft</th>\n",
       "      <th>tax_value</th>\n",
       "      <th>yearbuilt</th>\n",
       "      <th>fips</th>\n",
       "      <th>6037.0</th>\n",
       "      <th>6059.0</th>\n",
       "      <th>6111.0</th>\n",
       "    </tr>\n",
       "  </thead>\n",
       "  <tbody>\n",
       "    <tr>\n",
       "      <th>0</th>\n",
       "      <td>2.0</td>\n",
       "      <td>1323.0</td>\n",
       "      <td>402224.0</td>\n",
       "      <td>1986.0</td>\n",
       "      <td>6059.0</td>\n",
       "      <td>0</td>\n",
       "      <td>1</td>\n",
       "      <td>0</td>\n",
       "    </tr>\n",
       "    <tr>\n",
       "      <th>3</th>\n",
       "      <td>5.0</td>\n",
       "      <td>2981.0</td>\n",
       "      <td>655440.0</td>\n",
       "      <td>1999.0</td>\n",
       "      <td>6037.0</td>\n",
       "      <td>1</td>\n",
       "      <td>0</td>\n",
       "      <td>0</td>\n",
       "    </tr>\n",
       "    <tr>\n",
       "      <th>4</th>\n",
       "      <td>3.0</td>\n",
       "      <td>1045.0</td>\n",
       "      <td>353537.0</td>\n",
       "      <td>1954.0</td>\n",
       "      <td>6037.0</td>\n",
       "      <td>1</td>\n",
       "      <td>0</td>\n",
       "      <td>0</td>\n",
       "    </tr>\n",
       "  </tbody>\n",
       "</table>\n",
       "</div>"
      ],
      "text/plain": [
       "   bed    sqft  tax_value  yearbuilt    fips  6037.0  6059.0  6111.0\n",
       "0  2.0  1323.0   402224.0     1986.0  6059.0       0       1       0\n",
       "3  5.0  2981.0   655440.0     1999.0  6037.0       1       0       0\n",
       "4  3.0  1045.0   353537.0     1954.0  6037.0       1       0       0"
      ]
     },
     "execution_count": 38,
     "metadata": {},
     "output_type": "execute_result"
    }
   ],
   "source": [
    "df.head(3)"
   ]
  },
  {
   "cell_type": "code",
   "execution_count": 39,
   "id": "fb81e106",
   "metadata": {},
   "outputs": [
    {
     "data": {
      "text/html": [
       "<div>\n",
       "<style scoped>\n",
       "    .dataframe tbody tr th:only-of-type {\n",
       "        vertical-align: middle;\n",
       "    }\n",
       "\n",
       "    .dataframe tbody tr th {\n",
       "        vertical-align: top;\n",
       "    }\n",
       "\n",
       "    .dataframe thead th {\n",
       "        text-align: right;\n",
       "    }\n",
       "</style>\n",
       "<table border=\"1\" class=\"dataframe\">\n",
       "  <thead>\n",
       "    <tr style=\"text-align: right;\">\n",
       "      <th></th>\n",
       "      <th>bed</th>\n",
       "      <th>sqft</th>\n",
       "      <th>yearbuilt</th>\n",
       "      <th>6037.0</th>\n",
       "      <th>6059.0</th>\n",
       "      <th>6111.0</th>\n",
       "    </tr>\n",
       "  </thead>\n",
       "  <tbody>\n",
       "    <tr>\n",
       "      <th>40266</th>\n",
       "      <td>3.0</td>\n",
       "      <td>1684.0</td>\n",
       "      <td>1948.0</td>\n",
       "      <td>1</td>\n",
       "      <td>0</td>\n",
       "      <td>0</td>\n",
       "    </tr>\n",
       "    <tr>\n",
       "      <th>39517</th>\n",
       "      <td>3.0</td>\n",
       "      <td>1228.0</td>\n",
       "      <td>1964.0</td>\n",
       "      <td>1</td>\n",
       "      <td>0</td>\n",
       "      <td>0</td>\n",
       "    </tr>\n",
       "    <tr>\n",
       "      <th>45629</th>\n",
       "      <td>4.0</td>\n",
       "      <td>2360.0</td>\n",
       "      <td>2014.0</td>\n",
       "      <td>1</td>\n",
       "      <td>0</td>\n",
       "      <td>0</td>\n",
       "    </tr>\n",
       "  </tbody>\n",
       "</table>\n",
       "</div>"
      ],
      "text/plain": [
       "       bed    sqft  yearbuilt  6037.0  6059.0  6111.0\n",
       "40266  3.0  1684.0     1948.0       1       0       0\n",
       "39517  3.0  1228.0     1964.0       1       0       0\n",
       "45629  4.0  2360.0     2014.0       1       0       0"
      ]
     },
     "execution_count": 39,
     "metadata": {},
     "output_type": "execute_result"
    }
   ],
   "source": [
    "x_train.head(3)"
   ]
  },
  {
   "cell_type": "code",
   "execution_count": 40,
   "id": "be2e72d8",
   "metadata": {},
   "outputs": [
    {
     "data": {
      "text/plain": [
       "((47525, 8), (26614, 8), (11406, 6), (9505,))"
      ]
     },
     "execution_count": 40,
     "metadata": {},
     "output_type": "execute_result"
    }
   ],
   "source": [
    "df.shape, train.shape, x_validate.shape, y_test.shape"
   ]
  },
  {
   "cell_type": "markdown",
   "id": "6fa6cbda",
   "metadata": {},
   "source": [
    "# Scaling\n",
    "\n",
    "- with all the encoded values ranging 0-1 and the sqft and yearbuilt having much wider ranges, it is possible that scale alone could end up influencing our model.\n",
    "- to minimze this, I will scale the sqft and yearbuilt columns so that they have a smiliar scale impact as bed and fips. "
   ]
  },
  {
   "cell_type": "markdown",
   "id": "47e58edb",
   "metadata": {},
   "source": [
    "### MinMaxScaling\n",
    "min max scaling scales a data set to a specific range\n",
    "\n",
    "feature_range (default=(0, 1))"
   ]
  },
  {
   "cell_type": "code",
   "execution_count": 41,
   "id": "e8546167",
   "metadata": {},
   "outputs": [],
   "source": [
    "x_train_mms, x_validate_mms, x_test_mms = f.mms_scale_data(x_train, x_validate, x_test)"
   ]
  },
  {
   "cell_type": "markdown",
   "id": "21b7d4ca",
   "metadata": {},
   "source": [
    "### Standard Scaling\n",
    "scale and centers data\n",
    "calculated as:\n",
    "\n",
    "z = (x - u) / s\n",
    "\n",
    "u is mean s is std dev"
   ]
  },
  {
   "cell_type": "code",
   "execution_count": 42,
   "id": "4bea4f4e",
   "metadata": {},
   "outputs": [],
   "source": [
    "x_train_ss, x_validate_ss, x_test_ss = f.ss_scale_data(x_train, x_validate, x_test)"
   ]
  },
  {
   "cell_type": "code",
   "execution_count": 43,
   "id": "60bdf867",
   "metadata": {},
   "outputs": [
    {
     "data": {
      "text/plain": [
       "(array([ 893., 7651., 8628., 4674., 2665., 1294.,  547.,  185.,   57.,\n",
       "          20.]),\n",
       " array([ 300. ,  819.3, 1338.6, 1857.9, 2377.2, 2896.5, 3415.8, 3935.1,\n",
       "        4454.4, 4973.7, 5493. ]),\n",
       " <BarContainer object of 10 artists>)"
      ]
     },
     "execution_count": 43,
     "metadata": {},
     "output_type": "execute_result"
    },
    {
     "data": {
      "image/png": "[encoded data removed]",
      "text/plain": [
       "<Figure size 432x288 with 1 Axes>"
      ]
     },
     "metadata": {
      "needs_background": "light"
     },
     "output_type": "display_data"
    }
   ],
   "source": [
    "#original\n",
    "plt.hist(x_train.sqft)"
   ]
  },
  {
   "cell_type": "code",
   "execution_count": 44,
   "id": "e135b4a6",
   "metadata": {},
   "outputs": [
    {
     "data": {
      "text/plain": [
       "(array([ 893., 7651., 8628., 4674., 2665., 1294.,  547.,  185.,   57.,\n",
       "          20.]),\n",
       " array([0. , 0.1, 0.2, 0.3, 0.4, 0.5, 0.6, 0.7, 0.8, 0.9, 1. ]),\n",
       " <BarContainer object of 10 artists>)"
      ]
     },
     "execution_count": 44,
     "metadata": {},
     "output_type": "execute_result"
    },
    {
     "data": {
      "image/png": "[encoded data removed]",
      "text/plain": [
       "<Figure size 432x288 with 1 Axes>"
      ]
     },
     "metadata": {
      "needs_background": "light"
     },
     "output_type": "display_data"
    }
   ],
   "source": [
    "# scaled\n",
    "plt.hist(x_train_mms.sqft)"
   ]
  },
  {
   "cell_type": "code",
   "execution_count": 45,
   "id": "ee6d47fb",
   "metadata": {
    "scrolled": true
   },
   "outputs": [
    {
     "data": {
      "text/plain": [
       "(array([ 893., 7651., 8628., 4674., 2665., 1294.,  547.,  185.,   57.,\n",
       "          20.]),\n",
       " array([-2.0500614 , -1.31824279, -0.58642418,  0.14539443,  0.87721304,\n",
       "         1.60903164,  2.34085025,  3.07266886,  3.80448747,  4.53630608,\n",
       "         5.26812468]),\n",
       " <BarContainer object of 10 artists>)"
      ]
     },
     "execution_count": 45,
     "metadata": {},
     "output_type": "execute_result"
    },
    {
     "data": {
      "image/png": "[encoded data removed]",
      "text/plain": [
       "<Figure size 432x288 with 1 Axes>"
      ]
     },
     "metadata": {
      "needs_background": "light"
     },
     "output_type": "display_data"
    }
   ],
   "source": [
    "#scaled and centered\n",
    "plt.hist(x_train_ss.sqft)"
   ]
  },
  {
   "cell_type": "markdown",
   "id": "b6c56720",
   "metadata": {},
   "source": [
    "# Takeaways\n",
    "\n",
    "I have scaled data set using two different methods. \n",
    "\n",
    "x-data MinMax Scaling (range 0-1) \\\n",
    "x_train_mms, x_validate_mms, x_test_mms\n",
    "\n",
    "x-data Standard Scaling (mean of data = 0) \\\n",
    "x_train_ss, x_validate_ss, x_test_ss\n",
    "\n",
    "y-data is unscaled and remains the same \\\n",
    "y_train, y_validate, y_test"
   ]
  },
  {
   "cell_type": "code",
   "execution_count": 46,
   "id": "fbbc1127",
   "metadata": {},
   "outputs": [
    {
     "data": {
      "text/html": [
       "<div>\n",
       "<style scoped>\n",
       "    .dataframe tbody tr th:only-of-type {\n",
       "        vertical-align: middle;\n",
       "    }\n",
       "\n",
       "    .dataframe tbody tr th {\n",
       "        vertical-align: top;\n",
       "    }\n",
       "\n",
       "    .dataframe thead th {\n",
       "        text-align: right;\n",
       "    }\n",
       "</style>\n",
       "<table border=\"1\" class=\"dataframe\">\n",
       "  <thead>\n",
       "    <tr style=\"text-align: right;\">\n",
       "      <th></th>\n",
       "      <th>bed</th>\n",
       "      <th>sqft</th>\n",
       "      <th>yearbuilt</th>\n",
       "      <th>6037.0</th>\n",
       "      <th>6059.0</th>\n",
       "      <th>6111.0</th>\n",
       "    </tr>\n",
       "  </thead>\n",
       "  <tbody>\n",
       "    <tr>\n",
       "      <th>40266</th>\n",
       "      <td>3.0</td>\n",
       "      <td>1684.0</td>\n",
       "      <td>1948.0</td>\n",
       "      <td>1</td>\n",
       "      <td>0</td>\n",
       "      <td>0</td>\n",
       "    </tr>\n",
       "    <tr>\n",
       "      <th>39517</th>\n",
       "      <td>3.0</td>\n",
       "      <td>1228.0</td>\n",
       "      <td>1964.0</td>\n",
       "      <td>1</td>\n",
       "      <td>0</td>\n",
       "      <td>0</td>\n",
       "    </tr>\n",
       "    <tr>\n",
       "      <th>45629</th>\n",
       "      <td>4.0</td>\n",
       "      <td>2360.0</td>\n",
       "      <td>2014.0</td>\n",
       "      <td>1</td>\n",
       "      <td>0</td>\n",
       "      <td>0</td>\n",
       "    </tr>\n",
       "  </tbody>\n",
       "</table>\n",
       "</div>"
      ],
      "text/plain": [
       "       bed    sqft  yearbuilt  6037.0  6059.0  6111.0\n",
       "40266  3.0  1684.0     1948.0       1       0       0\n",
       "39517  3.0  1228.0     1964.0       1       0       0\n",
       "45629  4.0  2360.0     2014.0       1       0       0"
      ]
     },
     "execution_count": 46,
     "metadata": {},
     "output_type": "execute_result"
    }
   ],
   "source": [
    "x_train.head(3)"
   ]
  },
  {
   "cell_type": "code",
   "execution_count": 47,
   "id": "da252342",
   "metadata": {
    "scrolled": false
   },
   "outputs": [
    {
     "data": {
      "text/html": [
       "<div>\n",
       "<style scoped>\n",
       "    .dataframe tbody tr th:only-of-type {\n",
       "        vertical-align: middle;\n",
       "    }\n",
       "\n",
       "    .dataframe tbody tr th {\n",
       "        vertical-align: top;\n",
       "    }\n",
       "\n",
       "    .dataframe thead th {\n",
       "        text-align: right;\n",
       "    }\n",
       "</style>\n",
       "<table border=\"1\" class=\"dataframe\">\n",
       "  <thead>\n",
       "    <tr style=\"text-align: right;\">\n",
       "      <th></th>\n",
       "      <th>bed</th>\n",
       "      <th>sqft</th>\n",
       "      <th>yearbuilt</th>\n",
       "      <th>6037.0</th>\n",
       "      <th>6059.0</th>\n",
       "      <th>6111.0</th>\n",
       "    </tr>\n",
       "  </thead>\n",
       "  <tbody>\n",
       "    <tr>\n",
       "      <th>40266</th>\n",
       "      <td>3.0</td>\n",
       "      <td>-0.099672</td>\n",
       "      <td>-0.647501</td>\n",
       "      <td>1</td>\n",
       "      <td>0</td>\n",
       "      <td>0</td>\n",
       "    </tr>\n",
       "    <tr>\n",
       "      <th>39517</th>\n",
       "      <td>3.0</td>\n",
       "      <td>-0.742286</td>\n",
       "      <td>0.072707</td>\n",
       "      <td>1</td>\n",
       "      <td>0</td>\n",
       "      <td>0</td>\n",
       "    </tr>\n",
       "    <tr>\n",
       "      <th>45629</th>\n",
       "      <td>4.0</td>\n",
       "      <td>0.852974</td>\n",
       "      <td>2.323358</td>\n",
       "      <td>1</td>\n",
       "      <td>0</td>\n",
       "      <td>0</td>\n",
       "    </tr>\n",
       "  </tbody>\n",
       "</table>\n",
       "</div>"
      ],
      "text/plain": [
       "       bed      sqft  yearbuilt  6037.0  6059.0  6111.0\n",
       "40266  3.0 -0.099672  -0.647501       1       0       0\n",
       "39517  3.0 -0.742286   0.072707       1       0       0\n",
       "45629  4.0  0.852974   2.323358       1       0       0"
      ]
     },
     "execution_count": 47,
     "metadata": {},
     "output_type": "execute_result"
    }
   ],
   "source": [
    "x_train_ss.head(3)"
   ]
  },
  {
   "cell_type": "code",
   "execution_count": 48,
   "id": "2cf2c977",
   "metadata": {},
   "outputs": [
    {
     "data": {
      "text/html": [
       "<div>\n",
       "<style scoped>\n",
       "    .dataframe tbody tr th:only-of-type {\n",
       "        vertical-align: middle;\n",
       "    }\n",
       "\n",
       "    .dataframe tbody tr th {\n",
       "        vertical-align: top;\n",
       "    }\n",
       "\n",
       "    .dataframe thead th {\n",
       "        text-align: right;\n",
       "    }\n",
       "</style>\n",
       "<table border=\"1\" class=\"dataframe\">\n",
       "  <thead>\n",
       "    <tr style=\"text-align: right;\">\n",
       "      <th></th>\n",
       "      <th>bed</th>\n",
       "      <th>sqft</th>\n",
       "      <th>yearbuilt</th>\n",
       "      <th>6037.0</th>\n",
       "      <th>6059.0</th>\n",
       "      <th>6111.0</th>\n",
       "    </tr>\n",
       "  </thead>\n",
       "  <tbody>\n",
       "    <tr>\n",
       "      <th>40266</th>\n",
       "      <td>3.0</td>\n",
       "      <td>0.266513</td>\n",
       "      <td>0.464</td>\n",
       "      <td>1</td>\n",
       "      <td>0</td>\n",
       "      <td>0</td>\n",
       "    </tr>\n",
       "    <tr>\n",
       "      <th>39517</th>\n",
       "      <td>3.0</td>\n",
       "      <td>0.178702</td>\n",
       "      <td>0.592</td>\n",
       "      <td>1</td>\n",
       "      <td>0</td>\n",
       "      <td>0</td>\n",
       "    </tr>\n",
       "    <tr>\n",
       "      <th>45629</th>\n",
       "      <td>4.0</td>\n",
       "      <td>0.396688</td>\n",
       "      <td>0.992</td>\n",
       "      <td>1</td>\n",
       "      <td>0</td>\n",
       "      <td>0</td>\n",
       "    </tr>\n",
       "  </tbody>\n",
       "</table>\n",
       "</div>"
      ],
      "text/plain": [
       "       bed      sqft  yearbuilt  6037.0  6059.0  6111.0\n",
       "40266  3.0  0.266513      0.464       1       0       0\n",
       "39517  3.0  0.178702      0.592       1       0       0\n",
       "45629  4.0  0.396688      0.992       1       0       0"
      ]
     },
     "execution_count": 48,
     "metadata": {},
     "output_type": "execute_result"
    }
   ],
   "source": [
    "x_train_mms.head(3)"
   ]
  },
  {
   "cell_type": "markdown",
   "id": "e24bb446",
   "metadata": {},
   "source": [
    "# Models"
   ]
  },
  {
   "cell_type": "code",
   "execution_count": 49,
   "id": "b1901e4e",
   "metadata": {},
   "outputs": [],
   "source": [
    "#start the tables"
   ]
  },
  {
   "cell_type": "code",
   "execution_count": 50,
   "id": "758ddc24",
   "metadata": {},
   "outputs": [],
   "source": [
    "#Create Model_Summary table"
   ]
  },
  {
   "cell_type": "code",
   "execution_count": 51,
   "id": "60e1d1ff",
   "metadata": {},
   "outputs": [],
   "source": [
    "d = {'LinReg_tr1': [0,0,0]}\n",
    "Model_Summary = pd.DataFrame(data=d,index = ['no_scale', 'MinMaxScale', 'StandardScale'])"
   ]
  },
  {
   "cell_type": "markdown",
   "id": "c82f127c",
   "metadata": {},
   "source": [
    "# Baseline (mean)"
   ]
  },
  {
   "cell_type": "code",
   "execution_count": 52,
   "id": "7881b33d",
   "metadata": {},
   "outputs": [],
   "source": [
    "predictions_tr = pd.DataFrame({\n",
    "    'actual_tr': y_train})"
   ]
  },
  {
   "cell_type": "code",
   "execution_count": 53,
   "id": "7982dc20",
   "metadata": {},
   "outputs": [],
   "source": [
    "predictions_tr['baseline'] = y_train.mean()"
   ]
  },
  {
   "cell_type": "code",
   "execution_count": 54,
   "id": "f06a1424",
   "metadata": {},
   "outputs": [],
   "source": [
    "predictions_val = pd.DataFrame({\n",
    "    'actual_val': y_validate})"
   ]
  },
  {
   "cell_type": "code",
   "execution_count": 55,
   "id": "8a19cbe1",
   "metadata": {},
   "outputs": [],
   "source": [
    "predictions_val['baseline'] = y_validate.mean()"
   ]
  },
  {
   "cell_type": "code",
   "execution_count": 56,
   "id": "962e5f4a",
   "metadata": {
    "scrolled": true
   },
   "outputs": [
    {
     "name": "stdout",
     "output_type": "stream",
     "text": [
      "RMSE using Mean\n",
      "Train/In-Sample:  248562.35 \n",
      "Validate/Out-of-Sample:  250775.58\n"
     ]
    }
   ],
   "source": [
    "# 3. RMSE of baseline\n",
    "rmse_train = mean_squared_error(predictions_tr.actual_tr, predictions_tr.baseline)**(1/2)\n",
    "rmse_validate = mean_squared_error(predictions_val.actual_val, predictions_val.baseline)**(1/2)\n",
    "\n",
    "print(\"RMSE using Mean\\nTrain/In-Sample: \", round(rmse_train, 2), \n",
    "      \"\\nValidate/Out-of-Sample: \", round(rmse_validate, 2))"
   ]
  },
  {
   "cell_type": "markdown",
   "id": "eee4183b",
   "metadata": {},
   "source": [
    "# Add it to Model_Summary\n",
    "note: y variable was note scaled and is the same for all three"
   ]
  },
  {
   "cell_type": "code",
   "execution_count": 57,
   "id": "6c22ab8a",
   "metadata": {},
   "outputs": [],
   "source": [
    "Model_Summary.insert(0, 'Baseline_tr', [248562.35, 248562.35, 248562.35])"
   ]
  },
  {
   "cell_type": "code",
   "execution_count": 58,
   "id": "4f489b00",
   "metadata": {},
   "outputs": [],
   "source": [
    "Model_Summary.insert(0, 'Baseline_val', [250775.58, 250775.58, 250775.58])"
   ]
  },
  {
   "cell_type": "code",
   "execution_count": 59,
   "id": "435e636b",
   "metadata": {},
   "outputs": [],
   "source": [
    "Model_Summary.drop(columns = 'LinReg_tr1', inplace = True)"
   ]
  },
  {
   "cell_type": "code",
   "execution_count": 60,
   "id": "1320d23a",
   "metadata": {
    "scrolled": true
   },
   "outputs": [
    {
     "data": {
      "text/html": [
       "<div>\n",
       "<style scoped>\n",
       "    .dataframe tbody tr th:only-of-type {\n",
       "        vertical-align: middle;\n",
       "    }\n",
       "\n",
       "    .dataframe tbody tr th {\n",
       "        vertical-align: top;\n",
       "    }\n",
       "\n",
       "    .dataframe thead th {\n",
       "        text-align: right;\n",
       "    }\n",
       "</style>\n",
       "<table border=\"1\" class=\"dataframe\">\n",
       "  <thead>\n",
       "    <tr style=\"text-align: right;\">\n",
       "      <th></th>\n",
       "      <th>Baseline_val</th>\n",
       "      <th>Baseline_tr</th>\n",
       "    </tr>\n",
       "  </thead>\n",
       "  <tbody>\n",
       "    <tr>\n",
       "      <th>no_scale</th>\n",
       "      <td>250775.58</td>\n",
       "      <td>248562.35</td>\n",
       "    </tr>\n",
       "    <tr>\n",
       "      <th>MinMaxScale</th>\n",
       "      <td>250775.58</td>\n",
       "      <td>248562.35</td>\n",
       "    </tr>\n",
       "    <tr>\n",
       "      <th>StandardScale</th>\n",
       "      <td>250775.58</td>\n",
       "      <td>248562.35</td>\n",
       "    </tr>\n",
       "  </tbody>\n",
       "</table>\n",
       "</div>"
      ],
      "text/plain": [
       "               Baseline_val  Baseline_tr\n",
       "no_scale          250775.58    248562.35\n",
       "MinMaxScale       250775.58    248562.35\n",
       "StandardScale     250775.58    248562.35"
      ]
     },
     "execution_count": 60,
     "metadata": {},
     "output_type": "execute_result"
    }
   ],
   "source": [
    "Model_Summary"
   ]
  },
  {
   "cell_type": "markdown",
   "id": "5c5d08d4",
   "metadata": {},
   "source": [
    "# Linear Regression"
   ]
  },
  {
   "cell_type": "code",
   "execution_count": 61,
   "id": "125fb597",
   "metadata": {},
   "outputs": [
    {
     "name": "stdout",
     "output_type": "stream",
     "text": [
      "RMSE for OLS using LinearRegression\n",
      "Training/In-Sample:  215269.54 \n",
      "Validation/Out-of-Sample:  216486.57\n"
     ]
    }
   ],
   "source": [
    "lr_x_train, lr_x_val = f.lin_reg(x_train, y_train, x_validate, y_validate)"
   ]
  },
  {
   "cell_type": "code",
   "execution_count": 62,
   "id": "e4adbcc5",
   "metadata": {},
   "outputs": [
    {
     "name": "stdout",
     "output_type": "stream",
     "text": [
      "RMSE for OLS using LinearRegression\n",
      "Training/In-Sample:  215269.01 \n",
      "Validation/Out-of-Sample:  216484.27\n"
     ]
    }
   ],
   "source": [
    "lr_x_train_mms, lr_x_val_mms = f.lin_reg(x_train_mms, y_train, x_validate_mms, y_validate)"
   ]
  },
  {
   "cell_type": "code",
   "execution_count": 63,
   "id": "e10379f9",
   "metadata": {},
   "outputs": [
    {
     "name": "stdout",
     "output_type": "stream",
     "text": [
      "RMSE for OLS using LinearRegression\n",
      "Training/In-Sample:  215268.9 \n",
      "Validation/Out-of-Sample:  216481.4\n"
     ]
    }
   ],
   "source": [
    "lr_x_train_ss, lr_x_val_ss = f.lin_reg(x_train_ss, y_train, x_validate_ss, y_validate)"
   ]
  },
  {
   "cell_type": "markdown",
   "id": "42bb4c4b",
   "metadata": {},
   "source": [
    "# Add to Model_Summary!"
   ]
  },
  {
   "cell_type": "code",
   "execution_count": 64,
   "id": "afcf31b9",
   "metadata": {},
   "outputs": [],
   "source": [
    "Model_Summary.insert(0, 'LinReg_val', [216486.57, 216484.27, 216481.4])"
   ]
  },
  {
   "cell_type": "code",
   "execution_count": 65,
   "id": "66c2ced4",
   "metadata": {},
   "outputs": [],
   "source": [
    "Model_Summary.insert(0, 'LinReg_tr', [215269.54 , 215269.01, 215268.9 ])"
   ]
  },
  {
   "cell_type": "code",
   "execution_count": 66,
   "id": "43d97d76",
   "metadata": {
    "scrolled": true
   },
   "outputs": [
    {
     "data": {
      "text/html": [
       "<div>\n",
       "<style scoped>\n",
       "    .dataframe tbody tr th:only-of-type {\n",
       "        vertical-align: middle;\n",
       "    }\n",
       "\n",
       "    .dataframe tbody tr th {\n",
       "        vertical-align: top;\n",
       "    }\n",
       "\n",
       "    .dataframe thead th {\n",
       "        text-align: right;\n",
       "    }\n",
       "</style>\n",
       "<table border=\"1\" class=\"dataframe\">\n",
       "  <thead>\n",
       "    <tr style=\"text-align: right;\">\n",
       "      <th></th>\n",
       "      <th>LinReg_tr</th>\n",
       "      <th>LinReg_val</th>\n",
       "      <th>Baseline_val</th>\n",
       "      <th>Baseline_tr</th>\n",
       "    </tr>\n",
       "  </thead>\n",
       "  <tbody>\n",
       "    <tr>\n",
       "      <th>no_scale</th>\n",
       "      <td>215269.54</td>\n",
       "      <td>216486.57</td>\n",
       "      <td>250775.58</td>\n",
       "      <td>248562.35</td>\n",
       "    </tr>\n",
       "    <tr>\n",
       "      <th>MinMaxScale</th>\n",
       "      <td>215269.01</td>\n",
       "      <td>216484.27</td>\n",
       "      <td>250775.58</td>\n",
       "      <td>248562.35</td>\n",
       "    </tr>\n",
       "    <tr>\n",
       "      <th>StandardScale</th>\n",
       "      <td>215268.90</td>\n",
       "      <td>216481.40</td>\n",
       "      <td>250775.58</td>\n",
       "      <td>248562.35</td>\n",
       "    </tr>\n",
       "  </tbody>\n",
       "</table>\n",
       "</div>"
      ],
      "text/plain": [
       "               LinReg_tr  LinReg_val  Baseline_val  Baseline_tr\n",
       "no_scale       215269.54   216486.57     250775.58    248562.35\n",
       "MinMaxScale    215269.01   216484.27     250775.58    248562.35\n",
       "StandardScale  215268.90   216481.40     250775.58    248562.35"
      ]
     },
     "execution_count": 66,
     "metadata": {},
     "output_type": "execute_result"
    }
   ],
   "source": [
    "Model_Summary"
   ]
  },
  {
   "cell_type": "markdown",
   "id": "ccf45cb0",
   "metadata": {},
   "source": [
    "# Visual Aid!"
   ]
  },
  {
   "cell_type": "code",
   "execution_count": 67,
   "id": "ab1af491",
   "metadata": {},
   "outputs": [
    {
     "data": {
      "text/plain": [
       "<matplotlib.legend.Legend at 0x28b2ebe80>"
      ]
     },
     "execution_count": 67,
     "metadata": {},
     "output_type": "execute_result"
    },
    {
     "data": {
      "image/png": "[encoded data removed]",
      "text/plain": [
       "<Figure size 1152x576 with 1 Axes>"
      ]
     },
     "metadata": {
      "needs_background": "light"
     },
     "output_type": "display_data"
    }
   ],
   "source": [
    "#Distribution of my models' predictions\n",
    "plt.figure(figsize=(16,8))\n",
    "\n",
    "plt.hist(predictions_tr.actual_tr, bins = 20, color='blue', alpha=0.5, label='Actual')\n",
    "plt.hist(lr_x_train, bins = 20, color='red', alpha=0.5, label='No Scale')\n",
    "plt.hist(lr_x_train_mms, bins = 20, color='yellow', alpha=0.5, label='MinMax Scale')\n",
    "plt.hist(lr_x_train_ss, bins = 20, color='green', alpha=0.5, label='Standard Scale')\n",
    "#plt.hist(y_valid['lars'], color='yellow', alpha=0.5, label='Lasso Lars')\n",
    "#plt.hist(y_valid['glm'], color='green', alpha=0.5, label='Tweedie')\n",
    "#plt.hist(var_1, color='green', bins = 15, alpha=0.5, label='Poly Reg Deg = 2')\n",
    "\n",
    "plt.xlabel('Value')\n",
    "plt.ylabel('Frequency')\n",
    "plt.title('Linear Regression Summary')\n",
    "plt.legend()"
   ]
  },
  {
   "cell_type": "code",
   "execution_count": null,
   "id": "5542d7d3",
   "metadata": {},
   "outputs": [],
   "source": []
  },
  {
   "cell_type": "code",
   "execution_count": null,
   "id": "8c10e069",
   "metadata": {},
   "outputs": [],
   "source": []
  },
  {
   "cell_type": "markdown",
   "id": "8cd848f2",
   "metadata": {},
   "source": [
    "# Lasso Lars\n",
    "(alpha=1.0)"
   ]
  },
  {
   "cell_type": "code",
   "execution_count": 68,
   "id": "542cebc9",
   "metadata": {
    "scrolled": true
   },
   "outputs": [
    {
     "name": "stdout",
     "output_type": "stream",
     "text": [
      "RMSE for OLS using LassoLars\n",
      "Training/In-Sample:  215268.85 \n",
      "Validation/Out-of-Sample:  216484.33\n"
     ]
    }
   ],
   "source": [
    "lasslar_x_train, lasslar_x_val = f.lasso_lars(x_train, y_train, x_validate, y_validate)"
   ]
  },
  {
   "cell_type": "code",
   "execution_count": 69,
   "id": "6f6c9bd0",
   "metadata": {
    "scrolled": true
   },
   "outputs": [
    {
     "name": "stdout",
     "output_type": "stream",
     "text": [
      "RMSE for OLS using LassoLars\n",
      "Training/In-Sample:  215268.85 \n",
      "Validation/Out-of-Sample:  216484.33\n"
     ]
    }
   ],
   "source": [
    "lasslar_x_train_mms, lasslar_x_val_mms  = f.lasso_lars(x_train_mms, y_train, x_validate_mms, y_validate)"
   ]
  },
  {
   "cell_type": "code",
   "execution_count": 70,
   "id": "dcf26dcd",
   "metadata": {},
   "outputs": [
    {
     "name": "stdout",
     "output_type": "stream",
     "text": [
      "RMSE for OLS using LassoLars\n",
      "Training/In-Sample:  215268.85 \n",
      "Validation/Out-of-Sample:  216484.33\n"
     ]
    }
   ],
   "source": [
    "lasslar_x_train_ss, lasslar_x_val_ss  = f.lasso_lars(x_train_ss, y_train, x_validate_ss, y_validate)"
   ]
  },
  {
   "cell_type": "code",
   "execution_count": 71,
   "id": "610fcf5d",
   "metadata": {},
   "outputs": [],
   "source": [
    "#verify that dataframes are different"
   ]
  },
  {
   "cell_type": "code",
   "execution_count": 72,
   "id": "d62c5818",
   "metadata": {
    "scrolled": true
   },
   "outputs": [
    {
     "data": {
      "text/html": [
       "<div>\n",
       "<style scoped>\n",
       "    .dataframe tbody tr th:only-of-type {\n",
       "        vertical-align: middle;\n",
       "    }\n",
       "\n",
       "    .dataframe tbody tr th {\n",
       "        vertical-align: top;\n",
       "    }\n",
       "\n",
       "    .dataframe thead th {\n",
       "        text-align: right;\n",
       "    }\n",
       "</style>\n",
       "<table border=\"1\" class=\"dataframe\">\n",
       "  <thead>\n",
       "    <tr style=\"text-align: right;\">\n",
       "      <th></th>\n",
       "      <th>bed</th>\n",
       "      <th>sqft</th>\n",
       "      <th>yearbuilt</th>\n",
       "      <th>6037.0</th>\n",
       "      <th>6059.0</th>\n",
       "      <th>6111.0</th>\n",
       "    </tr>\n",
       "  </thead>\n",
       "  <tbody>\n",
       "    <tr>\n",
       "      <th>40266</th>\n",
       "      <td>3.0</td>\n",
       "      <td>1684.0</td>\n",
       "      <td>1948.0</td>\n",
       "      <td>1</td>\n",
       "      <td>0</td>\n",
       "      <td>0</td>\n",
       "    </tr>\n",
       "    <tr>\n",
       "      <th>39517</th>\n",
       "      <td>3.0</td>\n",
       "      <td>1228.0</td>\n",
       "      <td>1964.0</td>\n",
       "      <td>1</td>\n",
       "      <td>0</td>\n",
       "      <td>0</td>\n",
       "    </tr>\n",
       "    <tr>\n",
       "      <th>45629</th>\n",
       "      <td>4.0</td>\n",
       "      <td>2360.0</td>\n",
       "      <td>2014.0</td>\n",
       "      <td>1</td>\n",
       "      <td>0</td>\n",
       "      <td>0</td>\n",
       "    </tr>\n",
       "  </tbody>\n",
       "</table>\n",
       "</div>"
      ],
      "text/plain": [
       "       bed    sqft  yearbuilt  6037.0  6059.0  6111.0\n",
       "40266  3.0  1684.0     1948.0       1       0       0\n",
       "39517  3.0  1228.0     1964.0       1       0       0\n",
       "45629  4.0  2360.0     2014.0       1       0       0"
      ]
     },
     "execution_count": 72,
     "metadata": {},
     "output_type": "execute_result"
    }
   ],
   "source": [
    "x_train.head(3)"
   ]
  },
  {
   "cell_type": "code",
   "execution_count": 73,
   "id": "4c49c8d0",
   "metadata": {},
   "outputs": [
    {
     "data": {
      "text/html": [
       "<div>\n",
       "<style scoped>\n",
       "    .dataframe tbody tr th:only-of-type {\n",
       "        vertical-align: middle;\n",
       "    }\n",
       "\n",
       "    .dataframe tbody tr th {\n",
       "        vertical-align: top;\n",
       "    }\n",
       "\n",
       "    .dataframe thead th {\n",
       "        text-align: right;\n",
       "    }\n",
       "</style>\n",
       "<table border=\"1\" class=\"dataframe\">\n",
       "  <thead>\n",
       "    <tr style=\"text-align: right;\">\n",
       "      <th></th>\n",
       "      <th>bed</th>\n",
       "      <th>sqft</th>\n",
       "      <th>yearbuilt</th>\n",
       "      <th>6037.0</th>\n",
       "      <th>6059.0</th>\n",
       "      <th>6111.0</th>\n",
       "    </tr>\n",
       "  </thead>\n",
       "  <tbody>\n",
       "    <tr>\n",
       "      <th>40266</th>\n",
       "      <td>3.0</td>\n",
       "      <td>0.266513</td>\n",
       "      <td>0.464</td>\n",
       "      <td>1</td>\n",
       "      <td>0</td>\n",
       "      <td>0</td>\n",
       "    </tr>\n",
       "    <tr>\n",
       "      <th>39517</th>\n",
       "      <td>3.0</td>\n",
       "      <td>0.178702</td>\n",
       "      <td>0.592</td>\n",
       "      <td>1</td>\n",
       "      <td>0</td>\n",
       "      <td>0</td>\n",
       "    </tr>\n",
       "    <tr>\n",
       "      <th>45629</th>\n",
       "      <td>4.0</td>\n",
       "      <td>0.396688</td>\n",
       "      <td>0.992</td>\n",
       "      <td>1</td>\n",
       "      <td>0</td>\n",
       "      <td>0</td>\n",
       "    </tr>\n",
       "  </tbody>\n",
       "</table>\n",
       "</div>"
      ],
      "text/plain": [
       "       bed      sqft  yearbuilt  6037.0  6059.0  6111.0\n",
       "40266  3.0  0.266513      0.464       1       0       0\n",
       "39517  3.0  0.178702      0.592       1       0       0\n",
       "45629  4.0  0.396688      0.992       1       0       0"
      ]
     },
     "execution_count": 73,
     "metadata": {},
     "output_type": "execute_result"
    }
   ],
   "source": [
    "x_train_mms.head(3)"
   ]
  },
  {
   "cell_type": "code",
   "execution_count": 74,
   "id": "319e35bc",
   "metadata": {},
   "outputs": [
    {
     "data": {
      "text/html": [
       "<div>\n",
       "<style scoped>\n",
       "    .dataframe tbody tr th:only-of-type {\n",
       "        vertical-align: middle;\n",
       "    }\n",
       "\n",
       "    .dataframe tbody tr th {\n",
       "        vertical-align: top;\n",
       "    }\n",
       "\n",
       "    .dataframe thead th {\n",
       "        text-align: right;\n",
       "    }\n",
       "</style>\n",
       "<table border=\"1\" class=\"dataframe\">\n",
       "  <thead>\n",
       "    <tr style=\"text-align: right;\">\n",
       "      <th></th>\n",
       "      <th>bed</th>\n",
       "      <th>sqft</th>\n",
       "      <th>yearbuilt</th>\n",
       "      <th>6037.0</th>\n",
       "      <th>6059.0</th>\n",
       "      <th>6111.0</th>\n",
       "    </tr>\n",
       "  </thead>\n",
       "  <tbody>\n",
       "    <tr>\n",
       "      <th>40266</th>\n",
       "      <td>3.0</td>\n",
       "      <td>-0.099672</td>\n",
       "      <td>-0.647501</td>\n",
       "      <td>1</td>\n",
       "      <td>0</td>\n",
       "      <td>0</td>\n",
       "    </tr>\n",
       "    <tr>\n",
       "      <th>39517</th>\n",
       "      <td>3.0</td>\n",
       "      <td>-0.742286</td>\n",
       "      <td>0.072707</td>\n",
       "      <td>1</td>\n",
       "      <td>0</td>\n",
       "      <td>0</td>\n",
       "    </tr>\n",
       "    <tr>\n",
       "      <th>45629</th>\n",
       "      <td>4.0</td>\n",
       "      <td>0.852974</td>\n",
       "      <td>2.323358</td>\n",
       "      <td>1</td>\n",
       "      <td>0</td>\n",
       "      <td>0</td>\n",
       "    </tr>\n",
       "  </tbody>\n",
       "</table>\n",
       "</div>"
      ],
      "text/plain": [
       "       bed      sqft  yearbuilt  6037.0  6059.0  6111.0\n",
       "40266  3.0 -0.099672  -0.647501       1       0       0\n",
       "39517  3.0 -0.742286   0.072707       1       0       0\n",
       "45629  4.0  0.852974   2.323358       1       0       0"
      ]
     },
     "execution_count": 74,
     "metadata": {},
     "output_type": "execute_result"
    }
   ],
   "source": [
    "x_train_ss.head(3)"
   ]
  },
  {
   "cell_type": "markdown",
   "id": "665dd4bf",
   "metadata": {},
   "source": [
    "# Add to Model_Summary"
   ]
  },
  {
   "cell_type": "code",
   "execution_count": 75,
   "id": "dbfb96e0",
   "metadata": {},
   "outputs": [],
   "source": [
    "Model_Summary.insert(0, 'LassoLars_tr', [215268.85, 215268.85, 215268.85])"
   ]
  },
  {
   "cell_type": "code",
   "execution_count": 76,
   "id": "08797afc",
   "metadata": {},
   "outputs": [],
   "source": [
    "Model_Summary.insert(0, 'LassoLars_val', [216484.33, 216484.33, 216484.33])"
   ]
  },
  {
   "cell_type": "code",
   "execution_count": 77,
   "id": "bb2f5aa5",
   "metadata": {
    "scrolled": true
   },
   "outputs": [
    {
     "data": {
      "text/html": [
       "<div>\n",
       "<style scoped>\n",
       "    .dataframe tbody tr th:only-of-type {\n",
       "        vertical-align: middle;\n",
       "    }\n",
       "\n",
       "    .dataframe tbody tr th {\n",
       "        vertical-align: top;\n",
       "    }\n",
       "\n",
       "    .dataframe thead th {\n",
       "        text-align: right;\n",
       "    }\n",
       "</style>\n",
       "<table border=\"1\" class=\"dataframe\">\n",
       "  <thead>\n",
       "    <tr style=\"text-align: right;\">\n",
       "      <th></th>\n",
       "      <th>LassoLars_val</th>\n",
       "      <th>LassoLars_tr</th>\n",
       "      <th>LinReg_tr</th>\n",
       "      <th>LinReg_val</th>\n",
       "      <th>Baseline_val</th>\n",
       "      <th>Baseline_tr</th>\n",
       "    </tr>\n",
       "  </thead>\n",
       "  <tbody>\n",
       "    <tr>\n",
       "      <th>no_scale</th>\n",
       "      <td>216484.33</td>\n",
       "      <td>215268.85</td>\n",
       "      <td>215269.54</td>\n",
       "      <td>216486.57</td>\n",
       "      <td>250775.58</td>\n",
       "      <td>248562.35</td>\n",
       "    </tr>\n",
       "    <tr>\n",
       "      <th>MinMaxScale</th>\n",
       "      <td>216484.33</td>\n",
       "      <td>215268.85</td>\n",
       "      <td>215269.01</td>\n",
       "      <td>216484.27</td>\n",
       "      <td>250775.58</td>\n",
       "      <td>248562.35</td>\n",
       "    </tr>\n",
       "    <tr>\n",
       "      <th>StandardScale</th>\n",
       "      <td>216484.33</td>\n",
       "      <td>215268.85</td>\n",
       "      <td>215268.90</td>\n",
       "      <td>216481.40</td>\n",
       "      <td>250775.58</td>\n",
       "      <td>248562.35</td>\n",
       "    </tr>\n",
       "  </tbody>\n",
       "</table>\n",
       "</div>"
      ],
      "text/plain": [
       "               LassoLars_val  LassoLars_tr  LinReg_tr  LinReg_val  \\\n",
       "no_scale           216484.33     215268.85  215269.54   216486.57   \n",
       "MinMaxScale        216484.33     215268.85  215269.01   216484.27   \n",
       "StandardScale      216484.33     215268.85  215268.90   216481.40   \n",
       "\n",
       "               Baseline_val  Baseline_tr  \n",
       "no_scale          250775.58    248562.35  \n",
       "MinMaxScale       250775.58    248562.35  \n",
       "StandardScale     250775.58    248562.35  "
      ]
     },
     "execution_count": 77,
     "metadata": {},
     "output_type": "execute_result"
    }
   ],
   "source": [
    "Model_Summary"
   ]
  },
  {
   "cell_type": "markdown",
   "id": "351049ba",
   "metadata": {},
   "source": [
    "# Visual aid"
   ]
  },
  {
   "cell_type": "code",
   "execution_count": 78,
   "id": "bffb9ea2",
   "metadata": {},
   "outputs": [
    {
     "data": {
      "text/plain": [
       "<matplotlib.legend.Legend at 0x28b3894f0>"
      ]
     },
     "execution_count": 78,
     "metadata": {},
     "output_type": "execute_result"
    },
    {
     "data": {
      "image/png": "[encoded data removed]",
      "text/plain": [
       "<Figure size 1152x576 with 1 Axes>"
      ]
     },
     "metadata": {
      "needs_background": "light"
     },
     "output_type": "display_data"
    }
   ],
   "source": [
    "#Distribution of my models' predictions\n",
    "plt.figure(figsize=(16,8))\n",
    "\n",
    "plt.hist(predictions_tr.actual_tr, bins = 20, color='blue', alpha=0.5, label='Actual')\n",
    "plt.hist(lasslar_x_train, bins = 20, color='red', alpha=0.5, label='No Scale')\n",
    "plt.hist(lasslar_x_train_mms, bins = 20, color='yellow', alpha=0.5, label='MinMax Scale')\n",
    "plt.hist(lasslar_x_train_ss, bins = 20, color='green', alpha=0.5, label='Standard Scale')\n",
    "#plt.hist(y_valid['lars'], color='yellow', alpha=0.5, label='Lasso Lars')\n",
    "#plt.hist(y_valid['glm'], color='green', alpha=0.5, label='Tweedie')\n",
    "#plt.hist(var_1, color='green', bins = 15, alpha=0.5, label='Poly Reg Deg = 2')\n",
    "\n",
    "plt.xlabel('Value')\n",
    "plt.ylabel('Frequency')\n",
    "plt.title('Lasso Lars Summary')\n",
    "plt.legend()"
   ]
  },
  {
   "cell_type": "code",
   "execution_count": null,
   "id": "70949541",
   "metadata": {},
   "outputs": [],
   "source": []
  },
  {
   "cell_type": "markdown",
   "id": "64d653a9",
   "metadata": {},
   "source": [
    "# TweedieRegressor\n",
    "(power=1, alpha=0)"
   ]
  },
  {
   "cell_type": "code",
   "execution_count": 79,
   "id": "92ee66b4",
   "metadata": {
    "scrolled": false
   },
   "outputs": [
    {
     "name": "stdout",
     "output_type": "stream",
     "text": [
      "RMSE for OLS using GLM\n",
      "Training/In-Sample:  248562.35 \n",
      "Validation/Out-of-Sample:  250795.53\n"
     ]
    }
   ],
   "source": [
    "glm_x_train, glm_x_val  = f.glm(x_train, y_train, x_validate, y_validate)"
   ]
  },
  {
   "cell_type": "code",
   "execution_count": 80,
   "id": "dc882812",
   "metadata": {
    "scrolled": true
   },
   "outputs": [
    {
     "name": "stdout",
     "output_type": "stream",
     "text": [
      "RMSE for OLS using GLM\n",
      "Training/In-Sample:  216617.11 \n",
      "Validation/Out-of-Sample:  218109.34\n"
     ]
    }
   ],
   "source": [
    "glm_x_train_mms, glm_x_val_mms = f.glm(x_train_mms, y_train, x_validate_mms, y_validate)"
   ]
  },
  {
   "cell_type": "code",
   "execution_count": 81,
   "id": "4cec64cf",
   "metadata": {},
   "outputs": [
    {
     "name": "stdout",
     "output_type": "stream",
     "text": [
      "RMSE for OLS using GLM\n",
      "Training/In-Sample:  216617.11 \n",
      "Validation/Out-of-Sample:  218109.34\n"
     ]
    }
   ],
   "source": [
    "glm_x_train_ss, glm_x_val_ss = f.glm(x_train_ss, y_train, x_validate_ss, y_validate)"
   ]
  },
  {
   "cell_type": "markdown",
   "id": "0e664fef",
   "metadata": {},
   "source": [
    "# Add it to the model!"
   ]
  },
  {
   "cell_type": "code",
   "execution_count": 82,
   "id": "dcd26659",
   "metadata": {},
   "outputs": [],
   "source": [
    "Model_Summary.insert(0, 'GLM_tr', [248562.35, 216617.11, 216617.11])"
   ]
  },
  {
   "cell_type": "code",
   "execution_count": 83,
   "id": "905bf1fc",
   "metadata": {},
   "outputs": [],
   "source": [
    "Model_Summary.insert(0, 'GLM_val', [250795.53, 218109.34, 218109.34])"
   ]
  },
  {
   "cell_type": "code",
   "execution_count": 84,
   "id": "f2610c5d",
   "metadata": {
    "scrolled": true
   },
   "outputs": [
    {
     "data": {
      "text/html": [
       "<div>\n",
       "<style scoped>\n",
       "    .dataframe tbody tr th:only-of-type {\n",
       "        vertical-align: middle;\n",
       "    }\n",
       "\n",
       "    .dataframe tbody tr th {\n",
       "        vertical-align: top;\n",
       "    }\n",
       "\n",
       "    .dataframe thead th {\n",
       "        text-align: right;\n",
       "    }\n",
       "</style>\n",
       "<table border=\"1\" class=\"dataframe\">\n",
       "  <thead>\n",
       "    <tr style=\"text-align: right;\">\n",
       "      <th></th>\n",
       "      <th>GLM_val</th>\n",
       "      <th>GLM_tr</th>\n",
       "      <th>LassoLars_val</th>\n",
       "      <th>LassoLars_tr</th>\n",
       "      <th>LinReg_tr</th>\n",
       "      <th>LinReg_val</th>\n",
       "      <th>Baseline_val</th>\n",
       "      <th>Baseline_tr</th>\n",
       "    </tr>\n",
       "  </thead>\n",
       "  <tbody>\n",
       "    <tr>\n",
       "      <th>no_scale</th>\n",
       "      <td>250795.53</td>\n",
       "      <td>248562.35</td>\n",
       "      <td>216484.33</td>\n",
       "      <td>215268.85</td>\n",
       "      <td>215269.54</td>\n",
       "      <td>216486.57</td>\n",
       "      <td>250775.58</td>\n",
       "      <td>248562.35</td>\n",
       "    </tr>\n",
       "    <tr>\n",
       "      <th>MinMaxScale</th>\n",
       "      <td>218109.34</td>\n",
       "      <td>216617.11</td>\n",
       "      <td>216484.33</td>\n",
       "      <td>215268.85</td>\n",
       "      <td>215269.01</td>\n",
       "      <td>216484.27</td>\n",
       "      <td>250775.58</td>\n",
       "      <td>248562.35</td>\n",
       "    </tr>\n",
       "    <tr>\n",
       "      <th>StandardScale</th>\n",
       "      <td>218109.34</td>\n",
       "      <td>216617.11</td>\n",
       "      <td>216484.33</td>\n",
       "      <td>215268.85</td>\n",
       "      <td>215268.90</td>\n",
       "      <td>216481.40</td>\n",
       "      <td>250775.58</td>\n",
       "      <td>248562.35</td>\n",
       "    </tr>\n",
       "  </tbody>\n",
       "</table>\n",
       "</div>"
      ],
      "text/plain": [
       "                 GLM_val     GLM_tr  LassoLars_val  LassoLars_tr  LinReg_tr  \\\n",
       "no_scale       250795.53  248562.35      216484.33     215268.85  215269.54   \n",
       "MinMaxScale    218109.34  216617.11      216484.33     215268.85  215269.01   \n",
       "StandardScale  218109.34  216617.11      216484.33     215268.85  215268.90   \n",
       "\n",
       "               LinReg_val  Baseline_val  Baseline_tr  \n",
       "no_scale        216486.57     250775.58    248562.35  \n",
       "MinMaxScale     216484.27     250775.58    248562.35  \n",
       "StandardScale   216481.40     250775.58    248562.35  "
      ]
     },
     "execution_count": 84,
     "metadata": {},
     "output_type": "execute_result"
    }
   ],
   "source": [
    "Model_Summary"
   ]
  },
  {
   "cell_type": "markdown",
   "id": "196f3d6c",
   "metadata": {},
   "source": [
    "# Visual Aid"
   ]
  },
  {
   "cell_type": "code",
   "execution_count": 85,
   "id": "1868a71d",
   "metadata": {},
   "outputs": [
    {
     "data": {
      "text/plain": [
       "<matplotlib.legend.Legend at 0x28b26a490>"
      ]
     },
     "execution_count": 85,
     "metadata": {},
     "output_type": "execute_result"
    },
    {
     "data": {
      "image/png": "[encoded data removed]",
      "text/plain": [
       "<Figure size 1152x576 with 1 Axes>"
      ]
     },
     "metadata": {
      "needs_background": "light"
     },
     "output_type": "display_data"
    }
   ],
   "source": [
    "#Distribution of my models' predictions\n",
    "plt.figure(figsize=(16,8))\n",
    "\n",
    "plt.hist(predictions_tr.actual_tr, bins = 20, color='blue', alpha=0.5, label='Actual')\n",
    "plt.hist(glm_x_train, bins = 20, color='red', alpha=0.5, label='No Scale')\n",
    "plt.hist(glm_x_train_mms, bins = 20, color='yellow', alpha=0.5, label='MinMax Scale')\n",
    "plt.hist(glm_x_train_ss, bins = 20, color='green', alpha=0.5, label='Standard Scale')\n",
    "\n",
    "\n",
    "plt.ylim(0, 12_000)\n",
    "plt.xlabel('Value')\n",
    "plt.ylabel('Frequency')\n",
    "plt.title('GLM Summary')\n",
    "plt.legend()"
   ]
  },
  {
   "cell_type": "markdown",
   "id": "f4625a77",
   "metadata": {},
   "source": [
    "# Polynomial Regression"
   ]
  },
  {
   "cell_type": "code",
   "execution_count": 86,
   "id": "7ece5d3a",
   "metadata": {},
   "outputs": [
    {
     "data": {
      "text/plain": [
       "(array([4135., 4288., 4532., 4172., 3311., 2319., 1527., 1078.,  771.,\n",
       "         481.]),\n",
       " array([1.000000e+03, 1.108888e+05, 2.207776e+05, 3.306664e+05,\n",
       "        4.405552e+05, 5.504440e+05, 6.603328e+05, 7.702216e+05,\n",
       "        8.801104e+05, 9.899992e+05, 1.099888e+06]),\n",
       " <BarContainer object of 10 artists>)"
      ]
     },
     "execution_count": 86,
     "metadata": {},
     "output_type": "execute_result"
    },
    {
     "data": {
      "image/png": "[encoded data removed]",
      "text/plain": [
       "<Figure size 432x288 with 1 Axes>"
      ]
     },
     "metadata": {
      "needs_background": "light"
     },
     "output_type": "display_data"
    }
   ],
   "source": [
    "plt.hist(y_train)"
   ]
  },
  {
   "cell_type": "markdown",
   "id": "84fefdb0",
   "metadata": {},
   "source": [
    "# Takeaway\n",
    "\n",
    "\n",
    "I think the rate of change of the slope is significant, and therfore it is not a straight line. I also don't think it is an s, so I am going to pick 2\n",
    "\n",
    "data shapes\n",
    "1: line\n",
    "2: curve\n",
    "3: s"
   ]
  },
  {
   "cell_type": "code",
   "execution_count": 87,
   "id": "3eeca0b7",
   "metadata": {},
   "outputs": [
    {
     "name": "stdout",
     "output_type": "stream",
     "text": [
      "RMSE for Polynomial Model, degrees=2\n",
      "Training/In-Sample:  210630.36 \n",
      "Validation/Out-of-Sample:  212105.49\n"
     ]
    }
   ],
   "source": [
    "poly_x_train, poly_x_val = f.polynomial_transform(x_train, y_train, x_validate, y_validate)"
   ]
  },
  {
   "cell_type": "code",
   "execution_count": 88,
   "id": "0ada2cbf",
   "metadata": {},
   "outputs": [
    {
     "name": "stdout",
     "output_type": "stream",
     "text": [
      "RMSE for Polynomial Model, degrees=2\n",
      "Training/In-Sample:  210630.39 \n",
      "Validation/Out-of-Sample:  212109.41\n"
     ]
    }
   ],
   "source": [
    "poly_x_train_mms, poly_x_val_mms = f.polynomial_transform(x_train_mms, y_train, x_validate_mms, y_validate)"
   ]
  },
  {
   "cell_type": "code",
   "execution_count": 89,
   "id": "2e765671",
   "metadata": {},
   "outputs": [
    {
     "name": "stdout",
     "output_type": "stream",
     "text": [
      "RMSE for Polynomial Model, degrees=2\n",
      "Training/In-Sample:  210630.34 \n",
      "Validation/Out-of-Sample:  212104.93\n"
     ]
    }
   ],
   "source": [
    "poly_x_train_ss, poly_x_val_ss = f.polynomial_transform(x_train_ss, y_train, x_validate_ss, y_validate)"
   ]
  },
  {
   "cell_type": "markdown",
   "id": "17b3df98",
   "metadata": {},
   "source": [
    "# Add to table"
   ]
  },
  {
   "cell_type": "code",
   "execution_count": 90,
   "id": "1b3c1409",
   "metadata": {},
   "outputs": [],
   "source": [
    "Model_Summary.insert(0, 'Poly_tr', [210630.36 , 210630.39, 210630.34])"
   ]
  },
  {
   "cell_type": "code",
   "execution_count": 91,
   "id": "0043b377",
   "metadata": {},
   "outputs": [],
   "source": [
    "Model_Summary.insert(0, 'Poly_val', [212105.49, 212109.41, 212104.93])"
   ]
  },
  {
   "cell_type": "code",
   "execution_count": 92,
   "id": "c1c59287",
   "metadata": {
    "scrolled": true
   },
   "outputs": [
    {
     "data": {
      "text/html": [
       "<div>\n",
       "<style scoped>\n",
       "    .dataframe tbody tr th:only-of-type {\n",
       "        vertical-align: middle;\n",
       "    }\n",
       "\n",
       "    .dataframe tbody tr th {\n",
       "        vertical-align: top;\n",
       "    }\n",
       "\n",
       "    .dataframe thead th {\n",
       "        text-align: right;\n",
       "    }\n",
       "</style>\n",
       "<table border=\"1\" class=\"dataframe\">\n",
       "  <thead>\n",
       "    <tr style=\"text-align: right;\">\n",
       "      <th></th>\n",
       "      <th>Poly_val</th>\n",
       "      <th>Poly_tr</th>\n",
       "      <th>GLM_val</th>\n",
       "      <th>GLM_tr</th>\n",
       "      <th>LassoLars_val</th>\n",
       "      <th>LassoLars_tr</th>\n",
       "      <th>LinReg_tr</th>\n",
       "      <th>LinReg_val</th>\n",
       "      <th>Baseline_val</th>\n",
       "      <th>Baseline_tr</th>\n",
       "    </tr>\n",
       "  </thead>\n",
       "  <tbody>\n",
       "    <tr>\n",
       "      <th>no_scale</th>\n",
       "      <td>212105.49</td>\n",
       "      <td>210630.36</td>\n",
       "      <td>250795.53</td>\n",
       "      <td>248562.35</td>\n",
       "      <td>216484.33</td>\n",
       "      <td>215268.85</td>\n",
       "      <td>215269.54</td>\n",
       "      <td>216486.57</td>\n",
       "      <td>250775.58</td>\n",
       "      <td>248562.35</td>\n",
       "    </tr>\n",
       "    <tr>\n",
       "      <th>MinMaxScale</th>\n",
       "      <td>212109.41</td>\n",
       "      <td>210630.39</td>\n",
       "      <td>218109.34</td>\n",
       "      <td>216617.11</td>\n",
       "      <td>216484.33</td>\n",
       "      <td>215268.85</td>\n",
       "      <td>215269.01</td>\n",
       "      <td>216484.27</td>\n",
       "      <td>250775.58</td>\n",
       "      <td>248562.35</td>\n",
       "    </tr>\n",
       "    <tr>\n",
       "      <th>StandardScale</th>\n",
       "      <td>212104.93</td>\n",
       "      <td>210630.34</td>\n",
       "      <td>218109.34</td>\n",
       "      <td>216617.11</td>\n",
       "      <td>216484.33</td>\n",
       "      <td>215268.85</td>\n",
       "      <td>215268.90</td>\n",
       "      <td>216481.40</td>\n",
       "      <td>250775.58</td>\n",
       "      <td>248562.35</td>\n",
       "    </tr>\n",
       "  </tbody>\n",
       "</table>\n",
       "</div>"
      ],
      "text/plain": [
       "                Poly_val    Poly_tr    GLM_val     GLM_tr  LassoLars_val  \\\n",
       "no_scale       212105.49  210630.36  250795.53  248562.35      216484.33   \n",
       "MinMaxScale    212109.41  210630.39  218109.34  216617.11      216484.33   \n",
       "StandardScale  212104.93  210630.34  218109.34  216617.11      216484.33   \n",
       "\n",
       "               LassoLars_tr  LinReg_tr  LinReg_val  Baseline_val  Baseline_tr  \n",
       "no_scale          215268.85  215269.54   216486.57     250775.58    248562.35  \n",
       "MinMaxScale       215268.85  215269.01   216484.27     250775.58    248562.35  \n",
       "StandardScale     215268.85  215268.90   216481.40     250775.58    248562.35  "
      ]
     },
     "execution_count": 92,
     "metadata": {},
     "output_type": "execute_result"
    }
   ],
   "source": [
    "Model_Summary"
   ]
  },
  {
   "cell_type": "markdown",
   "id": "3e50fc1d",
   "metadata": {},
   "source": [
    "# Visual Aid"
   ]
  },
  {
   "cell_type": "code",
   "execution_count": 93,
   "id": "6fad0c16",
   "metadata": {},
   "outputs": [
    {
     "data": {
      "text/plain": [
       "<matplotlib.legend.Legend at 0x1696e31f0>"
      ]
     },
     "execution_count": 93,
     "metadata": {},
     "output_type": "execute_result"
    },
    {
     "data": {
      "image/png": "[encoded data removed]",
      "text/plain": [
       "<Figure size 1152x576 with 1 Axes>"
      ]
     },
     "metadata": {
      "needs_background": "light"
     },
     "output_type": "display_data"
    }
   ],
   "source": [
    "#Distribution of my models' predictions\n",
    "plt.figure(figsize=(16,8))\n",
    "\n",
    "plt.hist(predictions_tr.actual_tr, bins = 20, color='blue', alpha=0.5, label='Actual')\n",
    "plt.hist(poly_x_train, bins = 20, color='red', alpha=0.5, label='No Scale')\n",
    "plt.hist(poly_x_train_mms, bins = 20, color='yellow', alpha=0.5, label='MinMax Scale')\n",
    "plt.hist(poly_x_train_ss, bins = 20, color='green', alpha=0.5, label='Standard Scale')\n",
    "\n",
    "\n",
    "plt.xlabel('Value')\n",
    "plt.ylabel('Frequency')\n",
    "plt.title('Polynomial Regression Summary')\n",
    "plt.legend()"
   ]
  },
  {
   "cell_type": "markdown",
   "id": "2085aade",
   "metadata": {},
   "source": [
    "# Determine best"
   ]
  },
  {
   "cell_type": "code",
   "execution_count": 94,
   "id": "a608e660",
   "metadata": {
    "scrolled": true
   },
   "outputs": [
    {
     "data": {
      "text/plain": [
       "Poly_tr          210630.34\n",
       "Poly_val         212104.93\n",
       "LassoLars_tr     215268.85\n",
       "LinReg_tr        215268.90\n",
       "LinReg_val       216481.40\n",
       "LassoLars_val    216484.33\n",
       "GLM_tr           216617.11\n",
       "GLM_val          218109.34\n",
       "Baseline_tr      248562.35\n",
       "Baseline_val     250775.58\n",
       "dtype: float64"
      ]
     },
     "execution_count": 94,
     "metadata": {},
     "output_type": "execute_result"
    }
   ],
   "source": [
    "l = Model_Summary.min()\n",
    "l.sort_values()"
   ]
  },
  {
   "cell_type": "markdown",
   "id": "ba53b484",
   "metadata": {},
   "source": [
    "# Visual Aid of best of each Model"
   ]
  },
  {
   "cell_type": "code",
   "execution_count": 95,
   "id": "9158783a",
   "metadata": {},
   "outputs": [
    {
     "data": {
      "text/plain": [
       "<matplotlib.legend.Legend at 0x28b25c940>"
      ]
     },
     "execution_count": 95,
     "metadata": {},
     "output_type": "execute_result"
    },
    {
     "data": {
      "image/png": "[encoded data removed]",
      "text/plain": [
       "<Figure size 1152x576 with 1 Axes>"
      ]
     },
     "metadata": {
      "needs_background": "light"
     },
     "output_type": "display_data"
    }
   ],
   "source": [
    "#Distribution of my models' predictions\n",
    "plt.figure(figsize=(16,8))\n",
    "\n",
    "plt.hist(predictions_tr.actual_tr, bins = 20, color='blue', alpha=0.5, label='Actual')\n",
    "plt.hist(lr_x_val, bins = 20, color='red', alpha=0.5, label='Lin Reg, No Scale')\n",
    "plt.hist(poly_x_val, bins = 20, color='green', alpha=0.5, label='Poly, No Scale')\n",
    "plt.hist(glm_x_train_mms, bins = 20, color='yellow', alpha=0.5, label='GLM, MinMax Scale')\n",
    "plt.hist(lasslar_x_val, bins = 20, color='purple', alpha=0.5, label='Lasso Lars, No Scale')\n",
    "\n",
    "plt.xlabel('Value')\n",
    "plt.ylabel('Frequency')\n",
    "plt.title('Best of each model on Validation set')\n",
    "plt.legend()"
   ]
  },
  {
   "cell_type": "code",
   "execution_count": null,
   "id": "1dcacd29",
   "metadata": {},
   "outputs": [],
   "source": []
  },
  {
   "cell_type": "code",
   "execution_count": null,
   "id": "46e32fc2",
   "metadata": {},
   "outputs": [],
   "source": []
  },
  {
   "cell_type": "markdown",
   "id": "3d47fc48",
   "metadata": {},
   "source": [
    "# Takeaway\n",
    "\n",
    "The one that did the best on the validation set is:\n",
    "\n",
    "## Model:\n",
    "### Polynomial Regression (deg = 2) \n",
    "\n",
    "## Scaling:\n",
    "### Does not matter in this data set\n",
    "Looking back at statistical pearsons test, sqft had a correlation of .61 whereas the other features had much lower correlations.\n",
    "I conclude that scaling effect was miniscule compared to correlation effect value and therefore did not make much a difference."
   ]
  },
  {
   "cell_type": "markdown",
   "id": "42c05f53",
   "metadata": {},
   "source": [
    "# Test Dataset"
   ]
  },
  {
   "cell_type": "code",
   "execution_count": 96,
   "id": "b5fc6d40",
   "metadata": {
    "scrolled": true
   },
   "outputs": [
    {
     "name": "stdout",
     "output_type": "stream",
     "text": [
      "RMSE for Polynomial Model, degrees=2\n",
      "Training/In-Sample:  210630.36 \n",
      "Validation/Out-of-Sample:  209144.25\n"
     ]
    }
   ],
   "source": [
    "poly_x_train, poly_x_test = f.polynomial_transform(x_train, y_train, x_test, y_test)"
   ]
  },
  {
   "cell_type": "markdown",
   "id": "3ba79337",
   "metadata": {},
   "source": [
    "# Results\n",
    "RMSE for Test Set: 211540.04 "
   ]
  },
  {
   "cell_type": "markdown",
   "id": "dbed106d",
   "metadata": {},
   "source": [
    "For more stringent outlier criteria (Presented in this report): \\\n",
    "Data: 91% \\\n",
    "RMSE: 211540 \\\n",
    "Improvement: 15%\n",
    "\n",
    "For less stringent outler criteria: \\\n",
    "Data: 97% \\\n",
    "RMSE: 290176 \\\n",
    "Improvement: 20%\n",
    "\n",
    "\n",
    "\n"
   ]
  },
  {
   "cell_type": "markdown",
   "id": "a7cd650b",
   "metadata": {},
   "source": [
    "# Conclusion\n",
    "\n",
    "### County fips codes:\n",
    "\n",
    "6037.0 Los Angeles, CA \\\n",
    "6059.0 Orange, CA \\\n",
    "6111.0 Ventura, CA\n",
    "\n",
    "### Results\n",
    "Impoved base model rmse from 248562.35  (baseline train) to 210630.36 (poly deg = 2, no scale, train)\n",
    "which is a 15% improvement. \n",
    "\n",
    "Sqft correlated strongest with the target value\n",
    "\n",
    "### Future work\n",
    "\n",
    "I would like to incorporate bathrooms into the model. That will take more time because they are catagorical and may risk turning into a sparse matrix if encoded outright. \n",
    "\n",
    "I would also like to use robust scaling. Robust scaling is better at handling data with outliers.\n"
   ]
  },
  {
   "cell_type": "markdown",
   "id": "fd2b5520",
   "metadata": {},
   "source": [
    "# Outliers"
   ]
  },
  {
   "cell_type": "markdown",
   "id": "4af81ea6",
   "metadata": {},
   "source": [
    "Outliers 97% of data retained:\n",
    "    \n",
    "    df = df[(df.bathroomcnt < 7) & (df.bathroomcnt > 0)]\n",
    "    df = df[(df.bedroomcnt < 7) & (df.bedroomcnt > 0)]\n",
    "    df = df[df.taxamount < 25_000]\n",
    "    df = df[df.calculatedfinishedsquarefeet < 7_000]\n",
    "    df = df[df.yearbuilt>=1890]\n",
    "    df = df[df.taxvaluedollarcnt < 3_000_000]\n",
    "    df = df[(df.regionidzip < 150_000)]"
   ]
  },
  {
   "cell_type": "markdown",
   "id": "1a3d8f43",
   "metadata": {},
   "source": [
    "Outliers 91% of data retained:   \n",
    "    \n",
    "    df = df[(df.bathroomcnt < 5.5) & (df.bathroomcnt > 0)]\n",
    "    df = df[(df.bedroomcnt < 7) & (df.bedroomcnt > 0)]\n",
    "    df = df[df.taxamount < 25_000]\n",
    "    df = df[df.calculatedfinishedsquarefeet < 5_500]\n",
    "    df = df[df.yearbuilt>=1890]\n",
    "    df = df[df.taxvaluedollarcnt < 1_100_000]\n",
    "    df = df[(df.regionidzip < 150_000)]"
   ]
  },
  {
   "cell_type": "code",
   "execution_count": null,
   "id": "ea44c83d",
   "metadata": {},
   "outputs": [],
   "source": []
  },
  {
   "cell_type": "code",
   "execution_count": null,
   "id": "a69489bd",
   "metadata": {},
   "outputs": [],
   "source": []
  }
 ],
 "metadata": {
  "kernelspec": {
   "display_name": "Python 3 (ipykernel)",
   "language": "python",
   "name": "python3"
  },
  "language_info": {
   "codemirror_mode": {
    "name": "ipython",
    "version": 3
   },
   "file_extension": ".py",
   "mimetype": "text/x-python",
   "name": "python",
   "nbconvert_exporter": "python",
   "pygments_lexer": "ipython3",
   "version": "3.9.12"
  }
 },
 "nbformat": 4,
 "nbformat_minor": 5
}
