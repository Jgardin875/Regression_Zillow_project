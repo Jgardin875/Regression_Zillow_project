{
 "cells": [
  {
   "cell_type": "code",
   "execution_count": 1,
   "id": "85f08ebb",
   "metadata": {},
   "outputs": [],
   "source": [
    "import pandas as pd\n",
    "import env\n",
    "\n",
    "from sklearn.model_selection import train_test_split"
   ]
  },
  {
   "cell_type": "code",
   "execution_count": 2,
   "id": "ff2ec6a3",
   "metadata": {
    "scrolled": true
   },
   "outputs": [
    {
     "name": "stdout",
     "output_type": "stream",
     "text": [
      "Files from wrangle: \n",
      "new_zillow_data \n",
      "get_zillow_data \n",
      "prep_zillow \n",
      "split_zillow_data \n",
      "wrangle_zillow\n"
     ]
    }
   ],
   "source": [
    "print('Files from wrangle: \\nnew_zillow_data \\nget_zillow_data \\nprep_zillow \\nsplit_zillow_data \\nwrangle_zillow')\n"
   ]
  },
  {
   "cell_type": "code",
   "execution_count": 3,
   "id": "7ad73477",
   "metadata": {
    "scrolled": true
   },
   "outputs": [
    {
     "name": "stdout",
     "output_type": "stream",
     "text": [
      "df, train, validate, test = wrangle_final.wrangle_zillow()\n"
     ]
    }
   ],
   "source": [
    "print('df, train, validate, test = wrangle_final.wrangle_zillow()')"
   ]
  },
  {
   "cell_type": "markdown",
   "id": "1944a79a",
   "metadata": {},
   "source": [
    "# 1 Acquire:\n",
    "\n",
    "from the zillow database for all 'Single Family Residential' properties with transactions in 2017"
   ]
  },
  {
   "cell_type": "code",
   "execution_count": 4,
   "id": "67c45d4e",
   "metadata": {},
   "outputs": [],
   "source": [
    "url = f'mysql+pymysql://{env.user}:{env.password}@{env.host}/zillow'"
   ]
  },
  {
   "cell_type": "markdown",
   "id": "44c28c78",
   "metadata": {},
   "source": [
    "# 1 Answer"
   ]
  },
  {
   "cell_type": "code",
   "execution_count": 5,
   "id": "23b9b9d1",
   "metadata": {},
   "outputs": [],
   "source": [
    "def new_zillow_data():\n",
    "    return pd.read_sql('''SELECT\n",
    "    p.bedroomcnt,\n",
    "    p.bathroomcnt,\n",
    "    p.calculatedfinishedsquarefeet,\n",
    "    p.taxvaluedollarcnt,\n",
    "    p.yearbuilt,\n",
    "    p.fips,\n",
    "    p.taxamount,\n",
    "    p.regionidzip,\n",
    "    t.propertylandusedesc,\n",
    "    pr.transactiondate\n",
    "FROM properties_2017 p\n",
    "LEFT JOIN propertylandusetype t USING (propertylandusetypeid)\n",
    "LEFT JOIN airconditioningtype a USING (airconditioningtypeid)\n",
    "RIGHT JOIN predictions_2017 pr USING (parcelid)\n",
    "WHERE t.propertylandusedesc = 'Single Family Residential'\n",
    "AND pr.transactiondate LIKE \"2017%%\";\n",
    "\n",
    "''', url)\n",
    "\n",
    "\n",
    "import os\n",
    "\n",
    "def get_zillow_data():\n",
    "    filename = \"zillow.csv\"\n",
    "    \n",
    "    # if file is available locally, read it\n",
    "    if os.path.isfile(filename):\n",
    "        return pd.read_csv(filename, index_col = 0)\n",
    "    \n",
    "    # if file not available locally, acquire data from SQL database\n",
    "    # and write it as csv locally for future use\n",
    "    else:\n",
    "        # read the SQL query into a dataframe\n",
    "        df_zillow = new_zillow_data()\n",
    "        \n",
    "        # Write that dataframe to disk for later. Called \"caching\" the data for later.\n",
    "        df_zillow.to_csv(filename)\n",
    "\n",
    "        # Return the dataframe to the calling code\n",
    "        return df_zillow"
   ]
  },
  {
   "cell_type": "markdown",
   "id": "7f09c32d",
   "metadata": {},
   "source": [
    "CONSIDERED THE FOLLOWING COLUMNS:\n",
    "\n",
    "bulidingclassdesc\\\n",
    "architecturalstyledesc\\\n",
    "yardbuildingsqft26\\\n",
    "decktypeid\\\n",
    "fireplace\\\n",
    "poolcnt\\\n",
    "regionidneighborhood\\\n",
    "airconditioningdesc\\\n",
    "numberofstories\\\n",
    "buildingqualitytypeid\\\n",
    "airconditioningdesc\\\n",
    "garagecarcnt\\\n",
    "garagetotalsqft\\\n",
    "\n",
    "BUT THE ABOVE HAVE TOO MANY NULLS (over 50%)\n",
    "THEREFORE THEY ARE NOT INCLUDED IN THE DATASET\n",
    "\n",
    "\n",
    "\n",
    "REDUNDANCY NEEDS ADDRESSING-three different columns deal with location: \\\n",
    "regionidcity \\\n",
    "fips \\\n",
    "regionzip"
   ]
  },
  {
   "cell_type": "code",
   "execution_count": 6,
   "id": "0f95d012",
   "metadata": {},
   "outputs": [],
   "source": [
    "#df = new_zillow_data()"
   ]
  },
  {
   "cell_type": "code",
   "execution_count": 7,
   "id": "3c016ae2",
   "metadata": {},
   "outputs": [],
   "source": [
    "#df.to_csv('zillow.csv')"
   ]
  },
  {
   "cell_type": "code",
   "execution_count": 8,
   "id": "0d335fae",
   "metadata": {},
   "outputs": [],
   "source": [
    "#df = get_zillow_data()"
   ]
  },
  {
   "cell_type": "code",
   "execution_count": 9,
   "id": "664dc283",
   "metadata": {},
   "outputs": [],
   "source": [
    "#cols =  df.columns"
   ]
  },
  {
   "cell_type": "code",
   "execution_count": 10,
   "id": "ad748967",
   "metadata": {},
   "outputs": [],
   "source": [
    "# for col in cols:\n",
    "#     print(df[col].value_counts())\n",
    "#     print('----------------------')"
   ]
  },
  {
   "cell_type": "code",
   "execution_count": null,
   "id": "00b73c01",
   "metadata": {},
   "outputs": [],
   "source": []
  },
  {
   "cell_type": "markdown",
   "id": "e962f9e7",
   "metadata": {},
   "source": [
    "# 2 Prep\n",
    "\n",
    "Using your acquired Zillow data, walk through the summarization and cleaning steps in your wrangle.ipynb file like we did above. You may handle the missing values however you feel is appropriate and meaninful; remember to document your process and decisions using markdown and code commenting where helpful.\n"
   ]
  },
  {
   "cell_type": "code",
   "execution_count": 11,
   "id": "7c5e5662",
   "metadata": {},
   "outputs": [],
   "source": [
    "#df.shape"
   ]
  },
  {
   "cell_type": "code",
   "execution_count": 12,
   "id": "f1dbca84",
   "metadata": {},
   "outputs": [],
   "source": [
    "#df.isnull().sum()"
   ]
  },
  {
   "cell_type": "markdown",
   "id": "8fb5838c",
   "metadata": {},
   "source": [
    "# 2 "
   ]
  },
  {
   "cell_type": "code",
   "execution_count": 13,
   "id": "5dd37cbe",
   "metadata": {},
   "outputs": [],
   "source": [
    "def prep_zillow(df):\n",
    "    #drop nulls\n",
    "    df.dropna(subset = ['bedroomcnt', 'bathroomcnt', 'calculatedfinishedsquarefeet',\n",
    "       'taxvaluedollarcnt', 'yearbuilt', 'taxamount', 'fips', 'regionidzip'], inplace = True)\n",
    "    \n",
    "    \n",
    "    #deal with outliers\n",
    "    df = df[(df.bathroomcnt < 7) & (df.bathroomcnt > 0)]\n",
    "    df = df[(df.bedroomcnt < 7) & (df.bedroomcnt > 0)]\n",
    "    df = df[df.taxamount < 25_000]\n",
    "    df = df[df.calculatedfinishedsquarefeet < 7_000]\n",
    "    df = df[df.yearbuilt>=1890]\n",
    "    df = df[df.taxvaluedollarcnt < 3_000_000]\n",
    "    df = df[(df.regionidzip < 150_000)]\n",
    "    \n",
    "    #drop data leakage columns and search by columns that are no longer needed\n",
    "    df.drop(columns = ['transactiondate', 'propertylandusedesc', 'taxamount', 'regionidzip', 'bathroomcnt'], inplace = True)\n",
    "    \n",
    "    #rename columns for convenience\n",
    "    df.rename(columns = {'bedroomcnt': 'bed', 'calculatedfinishedsquarefeet' : 'sqft',\n",
    "   'taxvaluedollarcnt': 'tax_value'}, inplace = True)\n",
    "    \n",
    "    #set up columns to make dummies\n",
    "    df.fips = df.fips.astype('str')\n",
    "    #df.bed = df.bed.astype('str')\n",
    "    \n",
    "    #create dummy columns for catagorical varaibles\n",
    "    dummy_df = pd.get_dummies(df['fips'], dummy_na=False, drop_first= False)\n",
    "    df = pd.concat([df, dummy_df], axis=1)\n",
    "    \n",
    "    #dummy columns were mostly zeros, and created sparse matrix effect. I think. so i kept beds as numbers. \n",
    "    #Turned out, it still didn't make a difference. at least not to the first 3 decimal places. \n",
    "    \n",
    "    return df\n",
    "    \n",
    "    #total data loss from nulls and outliers: 3.07%"
   ]
  },
  {
   "cell_type": "code",
   "execution_count": 14,
   "id": "802971fd",
   "metadata": {},
   "outputs": [],
   "source": [
    "df = get_zillow_data()"
   ]
  },
  {
   "cell_type": "code",
   "execution_count": 15,
   "id": "a8b913d4",
   "metadata": {
    "scrolled": true
   },
   "outputs": [
    {
     "data": {
      "text/plain": [
       "(52441, 10)"
      ]
     },
     "execution_count": 15,
     "metadata": {},
     "output_type": "execute_result"
    }
   ],
   "source": [
    "df.shape"
   ]
  },
  {
   "cell_type": "code",
   "execution_count": 16,
   "id": "8521ec54",
   "metadata": {},
   "outputs": [],
   "source": [
    "df = prep_zillow(df)"
   ]
  },
  {
   "cell_type": "code",
   "execution_count": 17,
   "id": "9822b503",
   "metadata": {
    "scrolled": true
   },
   "outputs": [
    {
     "data": {
      "text/plain": [
       "(50831, 8)"
      ]
     },
     "execution_count": 17,
     "metadata": {},
     "output_type": "execute_result"
    }
   ],
   "source": [
    "df.shape"
   ]
  },
  {
   "cell_type": "code",
   "execution_count": 18,
   "id": "d896b132",
   "metadata": {},
   "outputs": [
    {
     "data": {
      "text/plain": [
       "1610"
      ]
     },
     "execution_count": 18,
     "metadata": {},
     "output_type": "execute_result"
    }
   ],
   "source": [
    "52441-50831"
   ]
  },
  {
   "cell_type": "code",
   "execution_count": 19,
   "id": "2e03a648",
   "metadata": {},
   "outputs": [
    {
     "data": {
      "text/plain": [
       "0.030701168932705327"
      ]
     },
     "execution_count": 19,
     "metadata": {},
     "output_type": "execute_result"
    }
   ],
   "source": [
    "1610/52441"
   ]
  },
  {
   "cell_type": "code",
   "execution_count": 20,
   "id": "5870e320",
   "metadata": {},
   "outputs": [],
   "source": [
    "#losing 3% of data"
   ]
  },
  {
   "cell_type": "code",
   "execution_count": null,
   "id": "aefbbf14",
   "metadata": {},
   "outputs": [],
   "source": []
  },
  {
   "cell_type": "code",
   "execution_count": null,
   "id": "1d389585",
   "metadata": {},
   "outputs": [],
   "source": []
  },
  {
   "cell_type": "markdown",
   "id": "27924486",
   "metadata": {},
   "source": [
    "# 3"
   ]
  },
  {
   "cell_type": "code",
   "execution_count": 21,
   "id": "51691330",
   "metadata": {},
   "outputs": [],
   "source": [
    "def split_zillow_data(df):\n",
    "\n",
    "    train_validate, test = train_test_split(df, test_size=.2, \n",
    "                                        random_state=123)\n",
    "    train, validate = train_test_split(train_validate, test_size=.3, \n",
    "                                   random_state=123)\n",
    "    return train, validate, test"
   ]
  },
  {
   "cell_type": "code",
   "execution_count": null,
   "id": "a83b98a9",
   "metadata": {},
   "outputs": [],
   "source": []
  },
  {
   "cell_type": "code",
   "execution_count": 22,
   "id": "30f99ca0",
   "metadata": {},
   "outputs": [],
   "source": [
    "def wrangle_zillow():\n",
    "    df = get_zillow_data()\n",
    "    df = prep_zillow(df)\n",
    "    train, validate, test = split_zillow_data(df)\n",
    "    return df, train, validate, test"
   ]
  },
  {
   "cell_type": "code",
   "execution_count": 23,
   "id": "ba7134de",
   "metadata": {
    "scrolled": true
   },
   "outputs": [],
   "source": [
    "df, train, validate, test = wrangle_zillow()"
   ]
  },
  {
   "cell_type": "code",
   "execution_count": 24,
   "id": "f5c50b22",
   "metadata": {},
   "outputs": [
    {
     "data": {
      "text/plain": [
       "((50831, 8), (28464, 8), (12200, 8), (10167, 8))"
      ]
     },
     "execution_count": 24,
     "metadata": {},
     "output_type": "execute_result"
    }
   ],
   "source": [
    "df.shape, train.shape, validate.shape, test.shape"
   ]
  },
  {
   "cell_type": "code",
   "execution_count": 25,
   "id": "e98af85b",
   "metadata": {
    "scrolled": true
   },
   "outputs": [
    {
     "data": {
      "text/html": [
       "<div>\n",
       "<style scoped>\n",
       "    .dataframe tbody tr th:only-of-type {\n",
       "        vertical-align: middle;\n",
       "    }\n",
       "\n",
       "    .dataframe tbody tr th {\n",
       "        vertical-align: top;\n",
       "    }\n",
       "\n",
       "    .dataframe thead th {\n",
       "        text-align: right;\n",
       "    }\n",
       "</style>\n",
       "<table border=\"1\" class=\"dataframe\">\n",
       "  <thead>\n",
       "    <tr style=\"text-align: right;\">\n",
       "      <th></th>\n",
       "      <th>bed</th>\n",
       "      <th>sqft</th>\n",
       "      <th>tax_value</th>\n",
       "      <th>yearbuilt</th>\n",
       "      <th>fips</th>\n",
       "      <th>6037.0</th>\n",
       "      <th>6059.0</th>\n",
       "      <th>6111.0</th>\n",
       "    </tr>\n",
       "  </thead>\n",
       "  <tbody>\n",
       "    <tr>\n",
       "      <th>0</th>\n",
       "      <td>2.0</td>\n",
       "      <td>1323.0</td>\n",
       "      <td>402224.0</td>\n",
       "      <td>1986.0</td>\n",
       "      <td>6059.0</td>\n",
       "      <td>0</td>\n",
       "      <td>1</td>\n",
       "      <td>0</td>\n",
       "    </tr>\n",
       "    <tr>\n",
       "      <th>2</th>\n",
       "      <td>5.0</td>\n",
       "      <td>4412.0</td>\n",
       "      <td>860256.0</td>\n",
       "      <td>1998.0</td>\n",
       "      <td>6059.0</td>\n",
       "      <td>0</td>\n",
       "      <td>1</td>\n",
       "      <td>0</td>\n",
       "    </tr>\n",
       "    <tr>\n",
       "      <th>3</th>\n",
       "      <td>5.0</td>\n",
       "      <td>2981.0</td>\n",
       "      <td>655440.0</td>\n",
       "      <td>1999.0</td>\n",
       "      <td>6037.0</td>\n",
       "      <td>1</td>\n",
       "      <td>0</td>\n",
       "      <td>0</td>\n",
       "    </tr>\n",
       "    <tr>\n",
       "      <th>4</th>\n",
       "      <td>3.0</td>\n",
       "      <td>1045.0</td>\n",
       "      <td>353537.0</td>\n",
       "      <td>1954.0</td>\n",
       "      <td>6037.0</td>\n",
       "      <td>1</td>\n",
       "      <td>0</td>\n",
       "      <td>0</td>\n",
       "    </tr>\n",
       "    <tr>\n",
       "      <th>5</th>\n",
       "      <td>5.0</td>\n",
       "      <td>1813.0</td>\n",
       "      <td>311205.0</td>\n",
       "      <td>1960.0</td>\n",
       "      <td>6059.0</td>\n",
       "      <td>0</td>\n",
       "      <td>1</td>\n",
       "      <td>0</td>\n",
       "    </tr>\n",
       "    <tr>\n",
       "      <th>...</th>\n",
       "      <td>...</td>\n",
       "      <td>...</td>\n",
       "      <td>...</td>\n",
       "      <td>...</td>\n",
       "      <td>...</td>\n",
       "      <td>...</td>\n",
       "      <td>...</td>\n",
       "      <td>...</td>\n",
       "    </tr>\n",
       "    <tr>\n",
       "      <th>52436</th>\n",
       "      <td>3.0</td>\n",
       "      <td>1811.0</td>\n",
       "      <td>842711.0</td>\n",
       "      <td>1989.0</td>\n",
       "      <td>6037.0</td>\n",
       "      <td>1</td>\n",
       "      <td>0</td>\n",
       "      <td>0</td>\n",
       "    </tr>\n",
       "    <tr>\n",
       "      <th>52437</th>\n",
       "      <td>3.0</td>\n",
       "      <td>1490.0</td>\n",
       "      <td>480212.0</td>\n",
       "      <td>1952.0</td>\n",
       "      <td>6037.0</td>\n",
       "      <td>1</td>\n",
       "      <td>0</td>\n",
       "      <td>0</td>\n",
       "    </tr>\n",
       "    <tr>\n",
       "      <th>52438</th>\n",
       "      <td>2.0</td>\n",
       "      <td>875.0</td>\n",
       "      <td>83281.0</td>\n",
       "      <td>1952.0</td>\n",
       "      <td>6037.0</td>\n",
       "      <td>1</td>\n",
       "      <td>0</td>\n",
       "      <td>0</td>\n",
       "    </tr>\n",
       "    <tr>\n",
       "      <th>52439</th>\n",
       "      <td>3.0</td>\n",
       "      <td>1108.0</td>\n",
       "      <td>358979.0</td>\n",
       "      <td>1956.0</td>\n",
       "      <td>6059.0</td>\n",
       "      <td>0</td>\n",
       "      <td>1</td>\n",
       "      <td>0</td>\n",
       "    </tr>\n",
       "    <tr>\n",
       "      <th>52440</th>\n",
       "      <td>4.0</td>\n",
       "      <td>1428.0</td>\n",
       "      <td>67599.0</td>\n",
       "      <td>1987.0</td>\n",
       "      <td>6037.0</td>\n",
       "      <td>1</td>\n",
       "      <td>0</td>\n",
       "      <td>0</td>\n",
       "    </tr>\n",
       "  </tbody>\n",
       "</table>\n",
       "<p>50831 rows × 8 columns</p>\n",
       "</div>"
      ],
      "text/plain": [
       "       bed    sqft  tax_value  yearbuilt    fips  6037.0  6059.0  6111.0\n",
       "0      2.0  1323.0   402224.0     1986.0  6059.0       0       1       0\n",
       "2      5.0  4412.0   860256.0     1998.0  6059.0       0       1       0\n",
       "3      5.0  2981.0   655440.0     1999.0  6037.0       1       0       0\n",
       "4      3.0  1045.0   353537.0     1954.0  6037.0       1       0       0\n",
       "5      5.0  1813.0   311205.0     1960.0  6059.0       0       1       0\n",
       "...    ...     ...        ...        ...     ...     ...     ...     ...\n",
       "52436  3.0  1811.0   842711.0     1989.0  6037.0       1       0       0\n",
       "52437  3.0  1490.0   480212.0     1952.0  6037.0       1       0       0\n",
       "52438  2.0   875.0    83281.0     1952.0  6037.0       1       0       0\n",
       "52439  3.0  1108.0   358979.0     1956.0  6059.0       0       1       0\n",
       "52440  4.0  1428.0    67599.0     1987.0  6037.0       1       0       0\n",
       "\n",
       "[50831 rows x 8 columns]"
      ]
     },
     "execution_count": 25,
     "metadata": {},
     "output_type": "execute_result"
    }
   ],
   "source": [
    "df"
   ]
  },
  {
   "cell_type": "code",
   "execution_count": null,
   "id": "f6672ece",
   "metadata": {},
   "outputs": [],
   "source": []
  },
  {
   "cell_type": "code",
   "execution_count": null,
   "id": "1fa35e6c",
   "metadata": {},
   "outputs": [],
   "source": []
  }
 ],
 "metadata": {
  "kernelspec": {
   "display_name": "Python 3 (ipykernel)",
   "language": "python",
   "name": "python3"
  },
  "language_info": {
   "codemirror_mode": {
    "name": "ipython",
    "version": 3
   },
   "file_extension": ".py",
   "mimetype": "text/x-python",
   "name": "python",
   "nbconvert_exporter": "python",
   "pygments_lexer": "ipython3",
   "version": "3.9.12"
  }
 },
 "nbformat": 4,
 "nbformat_minor": 5
}
